{
 "cells": [
  {
   "cell_type": "markdown",
   "metadata": {},
   "source": [
    "## Eserzici - File"
   ]
  },
  {
   "cell_type": "markdown",
   "metadata": {},
   "source": [
    "<b>Esercizio 1</b>"
   ]
  },
  {
   "cell_type": "markdown",
   "metadata": {},
   "source": [
    "Crea un nuovo file chiamato <code>testo1.txt</code> e all'interno scrivi <code>'Sto imparando Python'</code>.<br>"
   ]
  },
  {
   "cell_type": "code",
   "execution_count": 1,
   "metadata": {},
   "outputs": [],
   "source": [
    "with open('testo1.txt','w') as file:\n",
    "    file.write('Sto imparando Python')"
   ]
  },
  {
   "cell_type": "markdown",
   "metadata": {},
   "source": [
    "<b>Esercizio 1a</b>"
   ]
  },
  {
   "cell_type": "markdown",
   "metadata": {},
   "source": [
    "Salva il contenuto del file <code>testo1.txt</code> nella variabile <code>mio_testo</code>.<br>\n",
    "Stampa <code>mio_testo</code>.<br>\n",
    "Output desiderato:<br>\n",
    "<code><font color=green><b>Sto imparando Python</b></font></code><br>"
   ]
  },
  {
   "cell_type": "code",
   "execution_count": 2,
   "metadata": {},
   "outputs": [
    {
     "name": "stdout",
     "output_type": "stream",
     "text": [
      "Sto imparando Python\n"
     ]
    }
   ],
   "source": [
    "with open('testo1.txt','r') as file:\n",
    "    mio_testo = file.read()\n",
    "print(mio_testo)"
   ]
  },
  {
   "cell_type": "markdown",
   "metadata": {},
   "source": [
    "<b>Esercizio 2a</b>"
   ]
  },
  {
   "cell_type": "markdown",
   "metadata": {},
   "source": [
    "Aggiungi al file <code>testo1.txt</code> il testo <code>'\\nOggi è una bella giornata'</code>."
   ]
  },
  {
   "cell_type": "code",
   "execution_count": 3,
   "metadata": {},
   "outputs": [],
   "source": [
    "with open('testo1.txt','a') as file:\n",
    "    file.write('\\nOggi è una bella giornata')"
   ]
  },
  {
   "cell_type": "markdown",
   "metadata": {},
   "source": [
    "<b>Esercizio 3a</b>"
   ]
  },
  {
   "cell_type": "markdown",
   "metadata": {},
   "source": [
    "Aggiorna il contenuto del file nella variabile <code>mio_testo</code>, poi stampa la variabile.<br>\n",
    "Output desiderato:<br>\n",
    "<code><font color=green><b>Sto imparando Python</b></font></code><br>\n",
    "<code><font color=green><b>Oggi è una bella giornata</b></font></code><br>"
   ]
  },
  {
   "cell_type": "code",
   "execution_count": 4,
   "metadata": {},
   "outputs": [
    {
     "name": "stdout",
     "output_type": "stream",
     "text": [
      "Sto imparando Python\n",
      "Oggi è una bella giornata\n"
     ]
    }
   ],
   "source": [
    "with open('testo1.txt','r') as file:\n",
    "    mio_testo = file.read()\n",
    "print(mio_testo)"
   ]
  },
  {
   "cell_type": "markdown",
   "metadata": {},
   "source": [
    "<b>Esercizio 4a</b>"
   ]
  },
  {
   "cell_type": "markdown",
   "metadata": {},
   "source": [
    "Stampa il contenuto del file sotto forma di lista.<br>\n",
    "Ogni riga del file corrisponde ad un elemento della lista.<br>\n",
    "Output desiderato:<br>\n",
    "<code><font color=green><b>['Sto imparando Python\\n', 'Oggi è una bella giornata']</b></font></code><br>"
   ]
  },
  {
   "cell_type": "code",
   "execution_count": 5,
   "metadata": {},
   "outputs": [
    {
     "name": "stdout",
     "output_type": "stream",
     "text": [
      "['Sto imparando Python\\n', 'Oggi è una bella giornata']\n"
     ]
    }
   ],
   "source": [
    "with open('testo1.txt','r') as file:\n",
    "    print(file.readlines())"
   ]
  },
  {
   "cell_type": "code",
   "execution_count": null,
   "metadata": {},
   "outputs": [],
   "source": []
  }
 ],
 "metadata": {
  "kernelspec": {
   "display_name": "Python 3",
   "language": "python",
   "name": "python3"
  },
  "language_info": {
   "codemirror_mode": {
    "name": "ipython",
    "version": 3
   },
   "file_extension": ".py",
   "mimetype": "text/x-python",
   "name": "python",
   "nbconvert_exporter": "python",
   "pygments_lexer": "ipython3",
   "version": "3.7.1"
  }
 },
 "nbformat": 4,
 "nbformat_minor": 2
}
