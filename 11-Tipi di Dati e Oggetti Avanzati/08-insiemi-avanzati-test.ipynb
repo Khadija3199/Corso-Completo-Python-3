{
 "cells": [
  {
   "cell_type": "markdown",
   "metadata": {},
   "source": [
    "## Esercizi - Insiemi Avanzati"
   ]
  },
  {
   "cell_type": "markdown",
   "metadata": {},
   "source": [
    "<b>Esercizio 1</b>"
   ]
  },
  {
   "cell_type": "code",
   "execution_count": null,
   "metadata": {},
   "outputs": [],
   "source": [
    "set1 = {6,7,8,9}\n",
    "set2 = {7,8,9}"
   ]
  },
  {
   "cell_type": "markdown",
   "metadata": {},
   "source": [
    "Ottieni il valore booleano <font color=green><b>True</b></font> se nessuno degli elementi è presente in entrambi i set, altrimenti ottieni <font color=red><b>False</b></font>.<br>\n",
    "Output desiderato:<br>\n",
    "<code><font color=green><b>False</b></font></code><br>"
   ]
  },
  {
   "cell_type": "code",
   "execution_count": null,
   "metadata": {},
   "outputs": [],
   "source": []
  },
  {
   "cell_type": "markdown",
   "metadata": {},
   "source": [
    "<b>Esercizio 2</b>"
   ]
  },
  {
   "cell_type": "markdown",
   "metadata": {},
   "source": [
    "Ottieni il valore booleano <font color=green><b>True</b></font> se <code>set2</code> è un sottoinsieme di <code>set1</code>, altrimenti ottieni <font color=red><b>False</b></font>.<br>\n",
    "Output desiderato:<br>\n",
    "<code><font color=green><b>True</b></font></code><br>"
   ]
  },
  {
   "cell_type": "code",
   "execution_count": null,
   "metadata": {},
   "outputs": [],
   "source": []
  },
  {
   "cell_type": "markdown",
   "metadata": {},
   "source": [
    "<b>Esercizio 3</b>"
   ]
  },
  {
   "cell_type": "markdown",
   "metadata": {},
   "source": [
    "Ottieni il valore booleano <font color=green><b>True</b></font> se <code>set2</code> contiene <code>set1</code>, altrimenti ottieni <font color=red><b>False</b></font>.<br>\n",
    "Output desiderato:<br>\n",
    "<code><font color=green><b>False</b></font></code><br>"
   ]
  },
  {
   "cell_type": "code",
   "execution_count": null,
   "metadata": {},
   "outputs": [],
   "source": []
  }
 ],
 "metadata": {
  "kernelspec": {
   "display_name": "Python 3",
   "language": "python",
   "name": "python3"
  },
  "language_info": {
   "codemirror_mode": {
    "name": "ipython",
    "version": 3
   },
   "file_extension": ".py",
   "mimetype": "text/x-python",
   "name": "python",
   "nbconvert_exporter": "python",
   "pygments_lexer": "ipython3",
   "version": "3.7.1"
  }
 },
 "nbformat": 4,
 "nbformat_minor": 2
}
