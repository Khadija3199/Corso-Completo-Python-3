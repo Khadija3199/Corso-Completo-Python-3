{
 "cells": [
  {
   "cell_type": "markdown",
   "metadata": {},
   "source": [
    "## Esercizio - Dizionari Avanzati"
   ]
  },
  {
   "cell_type": "markdown",
   "metadata": {},
   "source": [
    "<b>Esercizio 1</b>"
   ]
  },
  {
   "cell_type": "markdown",
   "metadata": {},
   "source": [
    "Utilizzando le costruzioni  e il metodo <code>range</code>, crea un dizionario con i valori da <code>0</code> a <code>4</code> elevati alla terza.<br>\n",
    "Output desiderato:<br>\n",
    "<code><font color=green><b>{0: 0, 1: 1, 2: 8, 3: 27, 4: 64}</b></font></code>"
   ]
  },
  {
   "cell_type": "code",
   "execution_count": null,
   "metadata": {},
   "outputs": [],
   "source": []
  },
  {
   "cell_type": "markdown",
   "metadata": {},
   "source": [
    "<b>Esercizio 2</b>"
   ]
  },
  {
   "cell_type": "markdown",
   "metadata": {},
   "source": [
    "Utilizzando le costruzioni  e il metodo <code>range</code>, crea un dizionario con i valori da <code>0</code> a <code>9</code> solo se il numero è dispari.<br>\n",
    "Output desiderato:<br>\n",
    "<code><font color=green><b>{1: 1, 3: 3, 5: 5, 7: 7, 9: 9}</b></font></code>"
   ]
  },
  {
   "cell_type": "code",
   "execution_count": null,
   "metadata": {},
   "outputs": [],
   "source": []
  },
  {
   "cell_type": "markdown",
   "metadata": {},
   "source": [
    "<b>Esercizio 3</b>"
   ]
  },
  {
   "cell_type": "markdown",
   "metadata": {},
   "source": [
    "Utilizzando le costruzioni e il metodo <code>range</code>, replica questo dizionario <code>{'k1':10,'k2':20,'k3':30}</code><br>\n",
    "Output desiderato:<br>\n",
    "<code><font color=green><b>{'k1':10,'k2':20,'k3':30}</b></font></code>"
   ]
  },
  {
   "cell_type": "code",
   "execution_count": null,
   "metadata": {},
   "outputs": [],
   "source": []
  }
 ],
 "metadata": {
  "kernelspec": {
   "display_name": "Python 3",
   "language": "python",
   "name": "python3"
  },
  "language_info": {
   "codemirror_mode": {
    "name": "ipython",
    "version": 3
   },
   "file_extension": ".py",
   "mimetype": "text/x-python",
   "name": "python",
   "nbconvert_exporter": "python",
   "pygments_lexer": "ipython3",
   "version": "3.7.1"
  }
 },
 "nbformat": 4,
 "nbformat_minor": 2
}
