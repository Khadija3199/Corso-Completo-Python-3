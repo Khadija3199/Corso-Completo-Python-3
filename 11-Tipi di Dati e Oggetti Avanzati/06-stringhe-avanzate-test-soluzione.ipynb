{
 "cells": [
  {
   "cell_type": "markdown",
   "metadata": {},
   "source": [
    "## Esercizi - Stringhe Avanzate"
   ]
  },
  {
   "cell_type": "markdown",
   "metadata": {},
   "source": [
    "<b>Esercizio 1</b>"
   ]
  },
  {
   "cell_type": "code",
   "execution_count": null,
   "metadata": {},
   "outputs": [],
   "source": [
    "testo = \"vado a Scuola\""
   ]
  },
  {
   "cell_type": "markdown",
   "metadata": {},
   "source": [
    "Mostra la prima lettera di <code>testo</code> in maiuscolo.<br>\n",
    "Output desiderato:<br>\n",
    "<code><font color=green><b>'Vado a scuola'</b></font></code><br>"
   ]
  },
  {
   "cell_type": "code",
   "execution_count": null,
   "metadata": {},
   "outputs": [],
   "source": [
    "testo.capitalize()"
   ]
  },
  {
   "cell_type": "markdown",
   "metadata": {},
   "source": [
    "<b>Esercizio 2</b>"
   ]
  },
  {
   "cell_type": "markdown",
   "metadata": {},
   "source": [
    "Mostra <code>testo</code> tutto in maiuscolo.<br>\n",
    "Output desiderato:<br>\n",
    "<code><font color=green><b>'VADO A SCUOLA'</b></font></code><br>"
   ]
  },
  {
   "cell_type": "code",
   "execution_count": null,
   "metadata": {},
   "outputs": [],
   "source": [
    "testo.upper()"
   ]
  },
  {
   "cell_type": "markdown",
   "metadata": {},
   "source": [
    "<b>Esercizio 3</b>"
   ]
  },
  {
   "cell_type": "markdown",
   "metadata": {},
   "source": [
    "Mostra <code>testo</code> tutto in minuscolo.<br>\n",
    "Output desiderato:<br>\n",
    "<code><font color=green><b>'vado a scuola'</b></font></code><br>"
   ]
  },
  {
   "cell_type": "code",
   "execution_count": null,
   "metadata": {},
   "outputs": [],
   "source": [
    "testo.lower()"
   ]
  },
  {
   "cell_type": "markdown",
   "metadata": {},
   "source": [
    "<b>Esercizio 4</b>"
   ]
  },
  {
   "cell_type": "markdown",
   "metadata": {},
   "source": [
    "Conta le occorrenze della lettera <code>'a'</code> in <code>testo</code>.<br>\n",
    "Output desiderato:<br>\n",
    "<code><font color=green><b>3</b></font></code><br>"
   ]
  },
  {
   "cell_type": "code",
   "execution_count": null,
   "metadata": {},
   "outputs": [],
   "source": [
    "testo.count('a')"
   ]
  },
  {
   "cell_type": "markdown",
   "metadata": {},
   "source": [
    "<b>Esercizio 5</b>"
   ]
  },
  {
   "cell_type": "markdown",
   "metadata": {},
   "source": [
    "Mostra l'indice della lettera <code>'S'</code> di <code>testo</code>.<br>\n",
    "Output desiderato:<br>\n",
    "<code><font color=green><b>7</b></font></code><br>"
   ]
  },
  {
   "cell_type": "code",
   "execution_count": null,
   "metadata": {},
   "outputs": [],
   "source": [
    "testo.find('S')"
   ]
  },
  {
   "cell_type": "markdown",
   "metadata": {},
   "source": [
    "<b>Esercizio 6</b>"
   ]
  },
  {
   "cell_type": "markdown",
   "metadata": {},
   "source": [
    "Controlla se <code>testo</code> finisce con <code>'ola'</code>.<br>\n",
    "Output desiderato:<br>\n",
    "<code><font color=green><b>True</b></font></code><br>"
   ]
  },
  {
   "cell_type": "code",
   "execution_count": null,
   "metadata": {},
   "outputs": [],
   "source": [
    "testo.endswith('ola')"
   ]
  },
  {
   "cell_type": "markdown",
   "metadata": {},
   "source": [
    "<b>Esercizio 7</b>"
   ]
  },
  {
   "cell_type": "markdown",
   "metadata": {},
   "source": [
    "Mostra <code>testo</code> in mezzo alle lettere <code>'z'</code> in modo da ottenere una lunghezza di <code>20</code>.<br>\n",
    "Output desiderato:<br>\n",
    "<code><font color=green><b>'zzzvado a Scuolazzzz'</b></font></code><br>"
   ]
  },
  {
   "cell_type": "code",
   "execution_count": null,
   "metadata": {},
   "outputs": [],
   "source": [
    "testo.center(20,'z')"
   ]
  },
  {
   "cell_type": "markdown",
   "metadata": {},
   "source": [
    "<b>Esercizio 8</b>"
   ]
  },
  {
   "cell_type": "markdown",
   "metadata": {},
   "source": [
    "Controlla se la variabile <code>testo</code> è <code>alfanumerica</code>.<br>\n",
    "Output desiderato:<br>\n",
    "<code><font color=green><b>False</b></font></code><br>"
   ]
  },
  {
   "cell_type": "code",
   "execution_count": null,
   "metadata": {},
   "outputs": [],
   "source": [
    "testo.isalnum()"
   ]
  },
  {
   "cell_type": "markdown",
   "metadata": {},
   "source": [
    "<b>Esercizio 9</b>"
   ]
  },
  {
   "cell_type": "markdown",
   "metadata": {},
   "source": [
    "Controlla se la variabile <code>testo</code> è esclusivamente <code>alfabetica</code>.<br>\n",
    "Output desiderato:<br>\n",
    "<code><font color=green><b>False</b></font></code><br>"
   ]
  },
  {
   "cell_type": "code",
   "execution_count": null,
   "metadata": {},
   "outputs": [],
   "source": [
    "testo.isalpha()"
   ]
  },
  {
   "cell_type": "markdown",
   "metadata": {},
   "source": [
    "<b>Esercizio 10</b>"
   ]
  },
  {
   "cell_type": "code",
   "execution_count": 15,
   "metadata": {},
   "outputs": [],
   "source": [
    "t2 = \"sono le 5\""
   ]
  },
  {
   "cell_type": "markdown",
   "metadata": {},
   "source": [
    "Controlla se <code>t2</code> è tutta in minuscolo.<br>\n",
    "Assegna a <code>t2</code> la stringa tutta in maiuscolo.<br>\n",
    "Output desiderato:<br>\n",
    "<code><font color=green><b>True</b></font></code><br>"
   ]
  },
  {
   "cell_type": "code",
   "execution_count": 16,
   "metadata": {},
   "outputs": [
    {
     "name": "stdout",
     "output_type": "stream",
     "text": [
      "True\n"
     ]
    }
   ],
   "source": [
    "print(t2.islower())\n",
    "t2 = t2.upper()"
   ]
  },
  {
   "cell_type": "markdown",
   "metadata": {},
   "source": [
    "<b>Esercizio 11</b>"
   ]
  },
  {
   "cell_type": "markdown",
   "metadata": {},
   "source": [
    "Controlla se <code>t2</code> è tutta in maiuscolo.<br>\n",
    "Output desiderato:<br>\n",
    "<code><font color=green><b>True</b></font></code><br>"
   ]
  },
  {
   "cell_type": "code",
   "execution_count": 17,
   "metadata": {},
   "outputs": [
    {
     "data": {
      "text/plain": [
       "True"
      ]
     },
     "execution_count": 17,
     "metadata": {},
     "output_type": "execute_result"
    }
   ],
   "source": [
    "t2.isupper()"
   ]
  },
  {
   "cell_type": "markdown",
   "metadata": {},
   "source": [
    "<b>Esercizio 12</b>"
   ]
  },
  {
   "cell_type": "markdown",
   "metadata": {},
   "source": [
    "Dividi <code>t2</code> in una lista di parole.<br>\n",
    "Output desiderato:<br>\n",
    "<code><font color=green><b>['SONO', 'LE', '5']</b></font></code><br>"
   ]
  },
  {
   "cell_type": "code",
   "execution_count": 18,
   "metadata": {},
   "outputs": [
    {
     "data": {
      "text/plain": [
       "['SONO', 'LE', '5']"
      ]
     },
     "execution_count": 18,
     "metadata": {},
     "output_type": "execute_result"
    }
   ],
   "source": [
    "t2.split()"
   ]
  },
  {
   "cell_type": "markdown",
   "metadata": {},
   "source": [
    "<b>Esercizio 13</b>"
   ]
  },
  {
   "cell_type": "markdown",
   "metadata": {},
   "source": [
    "Sostituisci <code>SONO</code> con <code>SoNo</code> in <code>t2</code>.<br>\n",
    "Stampa <code>t2</code>.<br>\n",
    "Output desiderato:<br>\n",
    "<code><font color=green><b>SoNo LE 5</b></font></code><br>"
   ]
  },
  {
   "cell_type": "code",
   "execution_count": 19,
   "metadata": {},
   "outputs": [
    {
     "name": "stdout",
     "output_type": "stream",
     "text": [
      "SoNo LE 5\n"
     ]
    }
   ],
   "source": [
    "t2 = t2.replace('SONO','SoNo')\n",
    "print(t2)"
   ]
  },
  {
   "cell_type": "markdown",
   "metadata": {},
   "source": [
    "<b>Esercizio 14</b>"
   ]
  },
  {
   "cell_type": "markdown",
   "metadata": {},
   "source": [
    "Inverti i caratteri di <code>t2</code> da minuscolo a maiuscolo e viceversa.<br>\n",
    "Output desiderato:<br>\n",
    "<code><font color=green><b>'sOnO le 5'</b></font></code><br>"
   ]
  },
  {
   "cell_type": "code",
   "execution_count": 20,
   "metadata": {},
   "outputs": [
    {
     "data": {
      "text/plain": [
       "'sOnO le 5'"
      ]
     },
     "execution_count": 20,
     "metadata": {},
     "output_type": "execute_result"
    }
   ],
   "source": [
    "t2.swapcase()"
   ]
  },
  {
   "cell_type": "markdown",
   "metadata": {},
   "source": [
    "<b>Esercizio 15</b>"
   ]
  },
  {
   "cell_type": "code",
   "execution_count": 21,
   "metadata": {},
   "outputs": [],
   "source": [
    "lista = ['a','b','c','d','e']"
   ]
  },
  {
   "cell_type": "markdown",
   "metadata": {},
   "source": [
    "Aggiungi il carattere <code>-</code> tra ogni elemento di <code>lista</code>.<br>\n",
    "Output desiderato:<br>\n",
    "<code><font color=green><b>'a-b-c-d-e'</b></font></code><br>"
   ]
  },
  {
   "cell_type": "code",
   "execution_count": 22,
   "metadata": {},
   "outputs": [
    {
     "data": {
      "text/plain": [
       "'a-b-c-d-e'"
      ]
     },
     "execution_count": 22,
     "metadata": {},
     "output_type": "execute_result"
    }
   ],
   "source": [
    "'-'.join(lista)"
   ]
  },
  {
   "cell_type": "code",
   "execution_count": null,
   "metadata": {},
   "outputs": [],
   "source": []
  }
 ],
 "metadata": {
  "kernelspec": {
   "display_name": "Python 3",
   "language": "python",
   "name": "python3"
  },
  "language_info": {
   "codemirror_mode": {
    "name": "ipython",
    "version": 3
   },
   "file_extension": ".py",
   "mimetype": "text/x-python",
   "name": "python",
   "nbconvert_exporter": "python",
   "pygments_lexer": "ipython3",
   "version": "3.7.1"
  }
 },
 "nbformat": 4,
 "nbformat_minor": 2
}
