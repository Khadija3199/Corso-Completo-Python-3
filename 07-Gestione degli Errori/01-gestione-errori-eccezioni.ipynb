{
 "cells": [
  {
   "cell_type": "code",
   "execution_count": 1,
   "metadata": {},
   "outputs": [],
   "source": [
    "def somma(n1,n2):\n",
    "    print(n1 + n2)"
   ]
  },
  {
   "cell_type": "code",
   "execution_count": 2,
   "metadata": {},
   "outputs": [
    {
     "name": "stdout",
     "output_type": "stream",
     "text": [
      "20\n"
     ]
    }
   ],
   "source": [
    "somma(5,15)"
   ]
  },
  {
   "cell_type": "code",
   "execution_count": 3,
   "metadata": {},
   "outputs": [],
   "source": [
    "num1 = 5"
   ]
  },
  {
   "cell_type": "code",
   "execution_count": 4,
   "metadata": {},
   "outputs": [
    {
     "name": "stdout",
     "output_type": "stream",
     "text": [
      "Inserisci un numero15\n"
     ]
    }
   ],
   "source": [
    "num2 = input('Inserisci un numero')"
   ]
  },
  {
   "cell_type": "code",
   "execution_count": 6,
   "metadata": {},
   "outputs": [
    {
     "ename": "TypeError",
     "evalue": "unsupported operand type(s) for +: 'int' and 'str'",
     "output_type": "error",
     "traceback": [
      "\u001b[0;31m---------------------------------------------------------------------------\u001b[0m",
      "\u001b[0;31mTypeError\u001b[0m                                 Traceback (most recent call last)",
      "\u001b[0;32m<ipython-input-6-d601c44207bb>\u001b[0m in \u001b[0;36m<module>\u001b[0;34m\u001b[0m\n\u001b[0;32m----> 1\u001b[0;31m \u001b[0msomma\u001b[0m\u001b[0;34m(\u001b[0m\u001b[0mnum1\u001b[0m\u001b[0;34m,\u001b[0m\u001b[0mnum2\u001b[0m\u001b[0;34m)\u001b[0m\u001b[0;34m\u001b[0m\u001b[0;34m\u001b[0m\u001b[0m\n\u001b[0m\u001b[1;32m      2\u001b[0m \u001b[0mprint\u001b[0m\u001b[0;34m(\u001b[0m\u001b[0;34m'Il codice dopo viene eseguito?'\u001b[0m\u001b[0;34m)\u001b[0m\u001b[0;34m\u001b[0m\u001b[0;34m\u001b[0m\u001b[0m\n",
      "\u001b[0;32m<ipython-input-1-02b3930afaf8>\u001b[0m in \u001b[0;36msomma\u001b[0;34m(n1, n2)\u001b[0m\n\u001b[1;32m      1\u001b[0m \u001b[0;32mdef\u001b[0m \u001b[0msomma\u001b[0m\u001b[0;34m(\u001b[0m\u001b[0mn1\u001b[0m\u001b[0;34m,\u001b[0m\u001b[0mn2\u001b[0m\u001b[0;34m)\u001b[0m\u001b[0;34m:\u001b[0m\u001b[0;34m\u001b[0m\u001b[0;34m\u001b[0m\u001b[0m\n\u001b[0;32m----> 2\u001b[0;31m     \u001b[0mprint\u001b[0m\u001b[0;34m(\u001b[0m\u001b[0mn1\u001b[0m \u001b[0;34m+\u001b[0m \u001b[0mn2\u001b[0m\u001b[0;34m)\u001b[0m\u001b[0;34m\u001b[0m\u001b[0;34m\u001b[0m\u001b[0m\n\u001b[0m",
      "\u001b[0;31mTypeError\u001b[0m: unsupported operand type(s) for +: 'int' and 'str'"
     ]
    }
   ],
   "source": [
    "somma(num1,num2)\n",
    "print('Il codice dopo viene eseguito?')"
   ]
  },
  {
   "cell_type": "code",
   "execution_count": 11,
   "metadata": {},
   "outputs": [
    {
     "name": "stdout",
     "output_type": "stream",
     "text": [
      "Hai sommato correttamente i numeri\n",
      "10\n"
     ]
    }
   ],
   "source": [
    "try:\n",
    "    # PROVA AD ESEGUIRE QUESTO CODICE\n",
    "    # POTREBBE AVERE UN ERRORE\n",
    "    risultato = 5 + 5\n",
    "except:\n",
    "    # ESEGUE QUESTO CODICE QUANDO SI VERIFICA UN ERRORE NEL TRY\n",
    "    print('Non stai sommando correttamente i numeri')\n",
    "else:\n",
    "    print('Hai sommato correttamente i numeri')\n",
    "    print(risultato)"
   ]
  },
  {
   "cell_type": "code",
   "execution_count": 8,
   "metadata": {},
   "outputs": [
    {
     "data": {
      "text/plain": [
       "10"
      ]
     },
     "execution_count": 8,
     "metadata": {},
     "output_type": "execute_result"
    }
   ],
   "source": [
    "risultato"
   ]
  },
  {
   "cell_type": "code",
   "execution_count": 14,
   "metadata": {},
   "outputs": [
    {
     "name": "stdout",
     "output_type": "stream",
     "text": [
      "E' avvenuto un errore\n",
      "Vengo sempre eseguito\n"
     ]
    }
   ],
   "source": [
    "try:\n",
    "    file = open('testfile','r')\n",
    "    file.write('Ciao come stai?')\n",
    "except TypeError:\n",
    "    print(\"E' avvenuto un TypeError\")\n",
    "except: \n",
    "    print(\"E' avvenuto un errore\")\n",
    "finally:\n",
    "    print('Vengo sempre eseguito')"
   ]
  },
  {
   "cell_type": "code",
   "execution_count": 15,
   "metadata": {},
   "outputs": [],
   "source": [
    "def richiedo_int():\n",
    "    try:\n",
    "        risultato = int(input('Inserisci un numero'))\n",
    "    except:\n",
    "        print('Errore: questo non è un numero')\n",
    "    finally:\n",
    "        print(\"Fine dell'esecuzione\")"
   ]
  },
  {
   "cell_type": "code",
   "execution_count": 16,
   "metadata": {},
   "outputs": [
    {
     "name": "stdout",
     "output_type": "stream",
     "text": [
      "Inserisci un numero10\n",
      "Fine dell'esecuzione\n"
     ]
    }
   ],
   "source": [
    "richiedo_int()"
   ]
  },
  {
   "cell_type": "code",
   "execution_count": 17,
   "metadata": {
    "scrolled": true
   },
   "outputs": [
    {
     "name": "stdout",
     "output_type": "stream",
     "text": [
      "Inserisci un numeroparola\n",
      "Errore: questo non è un numero\n",
      "Fine dell'esecuzione\n"
     ]
    }
   ],
   "source": [
    "richiedo_int()"
   ]
  },
  {
   "cell_type": "code",
   "execution_count": 18,
   "metadata": {},
   "outputs": [],
   "source": [
    "def richiedo_int():\n",
    "    while True: \n",
    "        try:\n",
    "            risultato = int(input('Inserisci un numero '))\n",
    "        except:\n",
    "            print('Errore: questo non è un numero')\n",
    "            continue\n",
    "        else:\n",
    "            print(f'Il risultato è {risultato}')\n",
    "            break\n",
    "        finally:\n",
    "            print(\"Fine dell'esecuzione\")"
   ]
  },
  {
   "cell_type": "code",
   "execution_count": 19,
   "metadata": {},
   "outputs": [
    {
     "name": "stdout",
     "output_type": "stream",
     "text": [
      "Inserisci un numero 20\n",
      "Il risultato è 20\n",
      "Fine dell'esecuzione\n"
     ]
    }
   ],
   "source": [
    "richiedo_int()"
   ]
  },
  {
   "cell_type": "code",
   "execution_count": 20,
   "metadata": {},
   "outputs": [
    {
     "name": "stdout",
     "output_type": "stream",
     "text": [
      "Inserisci un numero parola\n",
      "Errore: questo non è un numero\n",
      "Fine dell'esecuzione\n",
      "Inserisci un numero A\n",
      "Errore: questo non è un numero\n",
      "Fine dell'esecuzione\n",
      "Inserisci un numero 30\n",
      "Il risultato è 30\n",
      "Fine dell'esecuzione\n"
     ]
    }
   ],
   "source": [
    "richiedo_int()"
   ]
  },
  {
   "cell_type": "code",
   "execution_count": null,
   "metadata": {},
   "outputs": [],
   "source": []
  }
 ],
 "metadata": {
  "kernelspec": {
   "display_name": "Python 3",
   "language": "python",
   "name": "python3"
  },
  "language_info": {
   "codemirror_mode": {
    "name": "ipython",
    "version": 3
   },
   "file_extension": ".py",
   "mimetype": "text/x-python",
   "name": "python",
   "nbconvert_exporter": "python",
   "pygments_lexer": "ipython3",
   "version": "3.7.1"
  }
 },
 "nbformat": 4,
 "nbformat_minor": 2
}
