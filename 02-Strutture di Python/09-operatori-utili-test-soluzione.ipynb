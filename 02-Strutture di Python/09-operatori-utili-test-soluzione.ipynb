{
 "cells": [
  {
   "cell_type": "markdown",
   "metadata": {},
   "source": [
    "## Esercizi - Operatori Utili"
   ]
  },
  {
   "cell_type": "markdown",
   "metadata": {},
   "source": [
    "<b>Esercizio 1</b>"
   ]
  },
  {
   "cell_type": "markdown",
   "metadata": {},
   "source": [
    "Utilizzando la funzione <code>range</code> in un ciclo di <code>for loop</code> stampa i numeri da 0 a 5.<br>\n",
    "Output desiderato:<br>\n",
    "<code><font color=green><b>0</b></font></code><br>\n",
    "<code><font color=green><b>1</b></font></code><br>\n",
    "<code><font color=green><b>2</b></font></code><br>\n",
    "<code><font color=green><b>3</b></font></code><br>\n",
    "<code><font color=green><b>4</b></font></code><br>\n",
    "<code><font color=green><b>5</b></font></code><br>"
   ]
  },
  {
   "cell_type": "code",
   "execution_count": 1,
   "metadata": {},
   "outputs": [
    {
     "name": "stdout",
     "output_type": "stream",
     "text": [
      "0\n",
      "1\n",
      "2\n",
      "3\n",
      "4\n",
      "5\n"
     ]
    }
   ],
   "source": [
    "for n in range(6):\n",
    "    print(n)"
   ]
  },
  {
   "cell_type": "markdown",
   "metadata": {},
   "source": [
    "<b>Esercizio 2</b>"
   ]
  },
  {
   "cell_type": "markdown",
   "metadata": {},
   "source": [
    "Utilizzando la funzione <code>range</code> in un ciclo di <code>for loop</code> stampa i numeri da 5 a 9.<br>\n",
    "Output desiderato:<br>\n",
    "<code><font color=green><b>5</b></font></code><br>\n",
    "<code><font color=green><b>6</b></font></code><br>\n",
    "<code><font color=green><b>7</b></font></code><br>\n",
    "<code><font color=green><b>8</b></font></code><br>\n",
    "<code><font color=green><b>9</b></font></code>"
   ]
  },
  {
   "cell_type": "code",
   "execution_count": 2,
   "metadata": {},
   "outputs": [
    {
     "name": "stdout",
     "output_type": "stream",
     "text": [
      "5\n",
      "6\n",
      "7\n",
      "8\n",
      "9\n"
     ]
    }
   ],
   "source": [
    "for n in range(5,10):\n",
    "    print(n)"
   ]
  },
  {
   "cell_type": "markdown",
   "metadata": {},
   "source": [
    "<b>Esercizio 3</b>"
   ]
  },
  {
   "cell_type": "markdown",
   "metadata": {},
   "source": [
    "Utilizzando la funzione <code>range</code> in un ciclo di <code>for loop</code> stampa i numeri da 0 a 6 saltando ogni volta 1 numero.<br>\n",
    "Output desiderato:<br>\n",
    "<code><font color=green><b>0</b></font></code><br>\n",
    "<code><font color=green><b>2</b></font></code><br>\n",
    "<code><font color=green><b>4</b></font></code><br>\n",
    "<code><font color=green><b>6</b></font></code>"
   ]
  },
  {
   "cell_type": "code",
   "execution_count": 3,
   "metadata": {},
   "outputs": [
    {
     "name": "stdout",
     "output_type": "stream",
     "text": [
      "0\n",
      "2\n",
      "4\n",
      "6\n"
     ]
    }
   ],
   "source": [
    "for n in range(0,7,2):\n",
    "    print(n)"
   ]
  },
  {
   "cell_type": "markdown",
   "metadata": {},
   "source": [
    "<b>Esercizio 4</b>"
   ]
  },
  {
   "cell_type": "markdown",
   "metadata": {},
   "source": [
    "Crea una lista chiamata <code>lista1</code> con i valori da 10 a 20 utilizzando la funzione <code>range</code>.<br>\n",
    "Mostra poi il contenuto di <code>lista1</code>.<br>\n",
    "Output desiderato:<br>\n",
    "<code><font color=green><b>[10, 11, 12, 13, 14, 15, 16, 17, 18, 19, 20]</b></font></code>"
   ]
  },
  {
   "cell_type": "code",
   "execution_count": 4,
   "metadata": {},
   "outputs": [
    {
     "data": {
      "text/plain": [
       "[10, 11, 12, 13, 14, 15, 16, 17, 18, 19, 20]"
      ]
     },
     "execution_count": 4,
     "metadata": {},
     "output_type": "execute_result"
    }
   ],
   "source": [
    "lista1 = list(range(10,21))\n",
    "lista1"
   ]
  },
  {
   "cell_type": "markdown",
   "metadata": {},
   "source": [
    "<b>Esercizio 5</b>"
   ]
  },
  {
   "cell_type": "code",
   "execution_count": 5,
   "metadata": {},
   "outputs": [],
   "source": [
    "nome = 'Mattia'"
   ]
  },
  {
   "cell_type": "markdown",
   "metadata": {},
   "source": [
    "Utilizzando un ciclo di <code>for loop</code> e la funzione corretta, stampa l'indice e la lettera corrispondente della variabile <code>nome</code>.<br>\n",
    "Output desiderato:<br>\n",
    "<code><font color=green><b>(0, 'M')</b></font></code><br>\n",
    "<code><font color=green><b>(1, 'a')</b></font></code><br>\n",
    "<code><font color=green><b>(2, 't')</b></font></code><br>\n",
    "<code><font color=green><b>(3, 't')</b></font></code><br>\n",
    "<code><font color=green><b>(4, 'i')</b></font></code><br>\n",
    "<code><font color=green><b>(5, 'a')</b></font></code>"
   ]
  },
  {
   "cell_type": "code",
   "execution_count": 6,
   "metadata": {},
   "outputs": [
    {
     "name": "stdout",
     "output_type": "stream",
     "text": [
      "(0, 'M')\n",
      "(1, 'a')\n",
      "(2, 't')\n",
      "(3, 't')\n",
      "(4, 'i')\n",
      "(5, 'a')\n"
     ]
    }
   ],
   "source": [
    "for lettera in enumerate(nome):\n",
    "    print(lettera)"
   ]
  },
  {
   "cell_type": "markdown",
   "metadata": {},
   "source": [
    "<b>Esercizio 6</b>"
   ]
  },
  {
   "cell_type": "markdown",
   "metadata": {},
   "source": [
    "Utilizzando un ciclo di <code>for loop</code> e la funzione corretta, stampa l'indice e la lettera della variabile <code>nome</code> in modo da ottenere l'ouput richiesto.<br>\n",
    "Output desiderato:<br>\n",
    "<code><font color=green><b>La lettera 'M' ha indice 0</b></font></code><br>\n",
    "<code><font color=green><b>La lettera 'a' ha indice 1</b></font></code><br>\n",
    "<code><font color=green><b>La lettera 't' ha indice 2</b></font></code><br>\n",
    "<code><font color=green><b>La lettera 't' ha indice 3</b></font></code><br>\n",
    "<code><font color=green><b>La lettera 'i' ha indice 4</b></font></code><br>\n",
    "<code><font color=green><b>La lettera 'a' ha indice 5</b></font></code>"
   ]
  },
  {
   "cell_type": "code",
   "execution_count": 7,
   "metadata": {},
   "outputs": [
    {
     "name": "stdout",
     "output_type": "stream",
     "text": [
      "La lettera 'M' ha indice 0\n",
      "La lettera 'a' ha indice 1\n",
      "La lettera 't' ha indice 2\n",
      "La lettera 't' ha indice 3\n",
      "La lettera 'i' ha indice 4\n",
      "La lettera 'a' ha indice 5\n"
     ]
    }
   ],
   "source": [
    "for (indice,lettera) in enumerate(nome):\n",
    "    print(f\"La lettera '{lettera}' ha indice {indice}\")"
   ]
  },
  {
   "cell_type": "markdown",
   "metadata": {},
   "source": [
    "<b>Esercizio 7</b>"
   ]
  },
  {
   "cell_type": "code",
   "execution_count": 8,
   "metadata": {},
   "outputs": [],
   "source": [
    "lista2 = [0,1,2]\n",
    "lista3 = ['x','y','z']"
   ]
  },
  {
   "cell_type": "markdown",
   "metadata": {},
   "source": [
    "Utilizzando il metodo corretto e il ciclo <code>for loop</code>, includi <code>lista2</code> e <code>lista3</code> in una tupla.<br>\n",
    "Output desiderato:<br>\n",
    "<code><font color=green><b>(0, 'x')</b></font></code><br>\n",
    "<code><font color=green><b>(1, 'y')</b></font></code><br>\n",
    "<code><font color=green><b>(2, 'z')</b></font></code>"
   ]
  },
  {
   "cell_type": "code",
   "execution_count": 9,
   "metadata": {},
   "outputs": [
    {
     "name": "stdout",
     "output_type": "stream",
     "text": [
      "(0, 'x')\n",
      "(1, 'y')\n",
      "(2, 'z')\n"
     ]
    }
   ],
   "source": [
    "for elemento in zip(lista2,lista3):\n",
    "    print(elemento)"
   ]
  },
  {
   "cell_type": "markdown",
   "metadata": {},
   "source": [
    "<b>Esercizio 8</b>"
   ]
  },
  {
   "cell_type": "markdown",
   "metadata": {},
   "source": [
    "Utilizzando la funzione corretta ottieni il minimo valore di <code>lista2</code><br>\n",
    "Output desiderato:<br>\n",
    "<code><font color=green><b>0</b></font></code>"
   ]
  },
  {
   "cell_type": "code",
   "execution_count": 10,
   "metadata": {},
   "outputs": [
    {
     "data": {
      "text/plain": [
       "0"
      ]
     },
     "execution_count": 10,
     "metadata": {},
     "output_type": "execute_result"
    }
   ],
   "source": [
    "min(lista2)"
   ]
  },
  {
   "cell_type": "markdown",
   "metadata": {},
   "source": [
    "<b>Esercizio 9</b>"
   ]
  },
  {
   "cell_type": "markdown",
   "metadata": {},
   "source": [
    "Utilizzando la funzione corretta ottieni il massimo valore di <code>lista2</code><br>\n",
    "Output desiderato:<br>\n",
    "<code><font color=green><b>2</b></font></code>"
   ]
  },
  {
   "cell_type": "code",
   "execution_count": 11,
   "metadata": {},
   "outputs": [
    {
     "data": {
      "text/plain": [
       "2"
      ]
     },
     "execution_count": 11,
     "metadata": {},
     "output_type": "execute_result"
    }
   ],
   "source": [
    "max(lista2)"
   ]
  },
  {
   "cell_type": "markdown",
   "metadata": {},
   "source": [
    "<b>Esercizio 10</b>"
   ]
  },
  {
   "cell_type": "markdown",
   "metadata": {},
   "source": [
    "Utilizzando la funzione corretta ottieni il nome dell'utente chiedendo <code>'Qual è il tuo nome? '</code>.</code><br>\n",
    "Salva il nome nella variabile <code>nome_utente</code> e mostrane il contenuto.<br>"
   ]
  },
  {
   "cell_type": "code",
   "execution_count": 12,
   "metadata": {},
   "outputs": [
    {
     "name": "stdout",
     "output_type": "stream",
     "text": [
      "Qual è il tuo nome? Tommaso\n"
     ]
    },
    {
     "data": {
      "text/plain": [
       "'Tommaso'"
      ]
     },
     "execution_count": 12,
     "metadata": {},
     "output_type": "execute_result"
    }
   ],
   "source": [
    "nome_utente = input('Qual è il tuo nome? ')\n",
    "nome_utente"
   ]
  },
  {
   "cell_type": "markdown",
   "metadata": {},
   "source": [
    "<b>Esercizio 11</b>"
   ]
  },
  {
   "cell_type": "markdown",
   "metadata": {},
   "source": [
    "Utilizzando la funzione corretta ottieni l'età dell'utente  chiedendo <code>'Quanti anni hai? '</code>.</code><br>\n",
    "Salva l'età come numero intero nella variabile <code>anni</code> e mostrane il contenuto.<br>"
   ]
  },
  {
   "cell_type": "code",
   "execution_count": 13,
   "metadata": {},
   "outputs": [
    {
     "name": "stdout",
     "output_type": "stream",
     "text": [
      "Quanti anni hai? 20\n"
     ]
    },
    {
     "data": {
      "text/plain": [
       "20"
      ]
     },
     "execution_count": 13,
     "metadata": {},
     "output_type": "execute_result"
    }
   ],
   "source": [
    "anni = int(input('Quanti anni hai? '))\n",
    "anni"
   ]
  },
  {
   "cell_type": "markdown",
   "metadata": {},
   "source": [
    "<b>Esercizio 12</b>"
   ]
  },
  {
   "cell_type": "code",
   "execution_count": 14,
   "metadata": {},
   "outputs": [],
   "source": [
    "lista4 = [1,2,3,4]"
   ]
  },
  {
   "cell_type": "markdown",
   "metadata": {},
   "source": [
    "Ottieni un valore booleano in base alla presenza o meno del numero <code>4</code> in </code>lista4</code><br>\n",
    "Output desiderato:<br>\n",
    "<code><font color=green><b>True</b></font></code>o<code><font color=green><b>False</b></font></code>"
   ]
  },
  {
   "cell_type": "code",
   "execution_count": 15,
   "metadata": {},
   "outputs": [
    {
     "data": {
      "text/plain": [
       "True"
      ]
     },
     "execution_count": 15,
     "metadata": {},
     "output_type": "execute_result"
    }
   ],
   "source": [
    "4 in lista4"
   ]
  },
  {
   "cell_type": "markdown",
   "metadata": {},
   "source": [
    "<b>Esercizio 13</b>"
   ]
  },
  {
   "cell_type": "markdown",
   "metadata": {},
   "source": [
    "Dal modulo <code>random</code> importa il metodo <code>shuffle</code>.<br>\n",
    "Disordina i valori in <code>lista4</code> e mostra il contenuto di <code>lista4</code>."
   ]
  },
  {
   "cell_type": "code",
   "execution_count": 16,
   "metadata": {},
   "outputs": [
    {
     "data": {
      "text/plain": [
       "[4, 3, 1, 2]"
      ]
     },
     "execution_count": 16,
     "metadata": {},
     "output_type": "execute_result"
    }
   ],
   "source": [
    "from random import shuffle\n",
    "shuffle(lista4)\n",
    "lista4"
   ]
  },
  {
   "cell_type": "markdown",
   "metadata": {},
   "source": [
    "<b>Esercizio 14</b>"
   ]
  },
  {
   "cell_type": "markdown",
   "metadata": {},
   "source": [
    "Dal modulo <code>random</code> importa il metodo <code>randint</code>.<br>\n",
    "Genera un numero intero random da <code>100</code> a <code>200</code>."
   ]
  },
  {
   "cell_type": "code",
   "execution_count": 17,
   "metadata": {},
   "outputs": [
    {
     "data": {
      "text/plain": [
       "200"
      ]
     },
     "execution_count": 17,
     "metadata": {},
     "output_type": "execute_result"
    }
   ],
   "source": [
    "from random import randint\n",
    "randint(100,200)"
   ]
  },
  {
   "cell_type": "code",
   "execution_count": null,
   "metadata": {},
   "outputs": [],
   "source": []
  }
 ],
 "metadata": {
  "kernelspec": {
   "display_name": "Python 3",
   "language": "python",
   "name": "python3"
  },
  "language_info": {
   "codemirror_mode": {
    "name": "ipython",
    "version": 3
   },
   "file_extension": ".py",
   "mimetype": "text/x-python",
   "name": "python",
   "nbconvert_exporter": "python",
   "pygments_lexer": "ipython3",
   "version": "3.7.1"
  }
 },
 "nbformat": 4,
 "nbformat_minor": 2
}
