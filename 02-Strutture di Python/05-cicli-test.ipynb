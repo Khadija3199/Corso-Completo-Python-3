{
 "cells": [
  {
   "cell_type": "markdown",
   "metadata": {},
   "source": [
    "## Esercizi - Cicli"
   ]
  },
  {
   "cell_type": "markdown",
   "metadata": {},
   "source": [
    "<b>Esercizio 1</b>"
   ]
  },
  {
   "cell_type": "markdown",
   "metadata": {},
   "source": [
    "Crea una tupla chiamata <code>tup1</code> con i valori <code>1</code>,<code>2</code> e <code>3</code>.<br>\n",
    "Stampa i valori della tupla <code>tup1</code> utilizzando un ciclo di <code>for loop</code>.<br>\n",
    "Output desiderato:<br>\n",
    "<code><font color=green><b>1</b></font></code><br>\n",
    "<code><font color=green><b>2</b></font></code><br>\n",
    "<code><font color=green><b>3</b></font></code><br>"
   ]
  },
  {
   "cell_type": "code",
   "execution_count": null,
   "metadata": {},
   "outputs": [],
   "source": []
  },
  {
   "cell_type": "markdown",
   "metadata": {},
   "source": [
    "<b>Esercizio 2</b>"
   ]
  },
  {
   "cell_type": "code",
   "execution_count": null,
   "metadata": {},
   "outputs": [],
   "source": [
    "casa = 'CASA'"
   ]
  },
  {
   "cell_type": "markdown",
   "metadata": {},
   "source": [
    "Stampa ciascun carattera della variabile <code>casa</code> utilizzando un ciclo di <code>for loop</code>.<br>\n",
    "Output desiderato:<br>\n",
    "<code><font color=green><b>C</b></font></code><br>\n",
    "<code><font color=green><b>A</b></font></code><br>\n",
    "<code><font color=green><b>S</b></font></code><br>\n",
    "<code><font color=green><b>A</b></font></code>"
   ]
  },
  {
   "cell_type": "code",
   "execution_count": null,
   "metadata": {},
   "outputs": [],
   "source": []
  },
  {
   "cell_type": "markdown",
   "metadata": {},
   "source": [
    "<b>Esercizio 2</b>"
   ]
  },
  {
   "cell_type": "code",
   "execution_count": null,
   "metadata": {},
   "outputs": [],
   "source": [
    "lista1 = [('a','b'),('c','d'),('e','f')]"
   ]
  },
  {
   "cell_type": "markdown",
   "metadata": {},
   "source": [
    "Stampa solo il primo valore di ciasuna tupla presente in <code>lista1</code> utilizzando un ciclo di <code>for loop</code>.<br>\n",
    "Output desiderato:<br>\n",
    "<code><font color=green><b>a</b></font></code><br>\n",
    "<code><font color=green><b>c</b></font></code><br>\n",
    "<code><font color=green><b>e</b></font></code>"
   ]
  },
  {
   "cell_type": "code",
   "execution_count": null,
   "metadata": {},
   "outputs": [],
   "source": []
  },
  {
   "cell_type": "markdown",
   "metadata": {},
   "source": [
    "<b>Esercizio 3</b>"
   ]
  },
  {
   "cell_type": "markdown",
   "metadata": {},
   "source": [
    "Stampa solo il secondo valore di ciasuna tupla presente in <code>lista1</code> utilizzando un ciclo di <code>for loop</code>.<br>\n",
    "Output desiderato:<br>\n",
    "<code><font color=green><b>b</b></font></code><br>\n",
    "<code><font color=green><b>d</b></font></code><br>\n",
    "<code><font color=green><b>f</b></font></code>"
   ]
  },
  {
   "cell_type": "code",
   "execution_count": null,
   "metadata": {},
   "outputs": [],
   "source": []
  },
  {
   "cell_type": "markdown",
   "metadata": {},
   "source": [
    "<b>Esercizio 4</b>"
   ]
  },
  {
   "cell_type": "code",
   "execution_count": null,
   "metadata": {},
   "outputs": [],
   "source": [
    "diz1 = {'k1':1,'k2':2,'k3':3,'k4':4}"
   ]
  },
  {
   "cell_type": "markdown",
   "metadata": {},
   "source": [
    "Stampa solo le chiavi del dizionario <code>diz1</code> utilizzando un ciclo di <code>for loop</code>.<br>\n",
    "Output desiderato:<br>\n",
    "<code><font color=green><b>'k1'</b></font></code><br>\n",
    "<code><font color=green><b>'k2'</b></font></code><br>\n",
    "<code><font color=green><b>'k3'</b></font></code><br>\n",
    "<code><font color=green><b>'k4'</b></font></code>"
   ]
  },
  {
   "cell_type": "code",
   "execution_count": null,
   "metadata": {},
   "outputs": [],
   "source": []
  },
  {
   "cell_type": "markdown",
   "metadata": {},
   "source": [
    "<b>Esercizio 5</b>"
   ]
  },
  {
   "cell_type": "markdown",
   "metadata": {},
   "source": [
    "Utilizzando il metodo corretto, stampa solo i valori del dizionario <code>diz1</code> utilizzando un ciclo di <code>for loop</code>.<br>\n",
    "Salta il numero <code>3</code> utilizzando l'istruzione corretta all'interno del ciclo.\n",
    "Output desiderato:<br>\n",
    "<code><font color=green><b>1</b></font></code><br>\n",
    "<code><font color=green><b>2</b></font></code><br>\n",
    "<code><font color=green><b>4</b></font></code>"
   ]
  },
  {
   "cell_type": "code",
   "execution_count": null,
   "metadata": {},
   "outputs": [],
   "source": []
  },
  {
   "cell_type": "markdown",
   "metadata": {},
   "source": [
    "<b>Esercizio 6</b>"
   ]
  },
  {
   "cell_type": "code",
   "execution_count": null,
   "metadata": {},
   "outputs": [],
   "source": [
    "num = 1"
   ]
  },
  {
   "cell_type": "markdown",
   "metadata": {},
   "source": [
    "Crea un ciclo <code>while</code> per incrementare la variabile num fino a <code>10</code>.<br>\n",
    "Stampa <code>num</code> se il numero è pari.<br>\n",
    "Output desiderato:<br>\n",
    "<code><font color=green><b>2</b></font></code><br>\n",
    "<code><font color=green><b>4</b></font></code><br>\n",
    "<code><font color=green><b>6</b></font></code><br>\n",
    "<code><font color=green><b>8</b></font></code><br>\n",
    "<code><font color=green><b>10</b></font></code><br>"
   ]
  },
  {
   "cell_type": "code",
   "execution_count": null,
   "metadata": {},
   "outputs": [],
   "source": []
  }
 ],
 "metadata": {
  "kernelspec": {
   "display_name": "Python 3",
   "language": "python",
   "name": "python3"
  },
  "language_info": {
   "codemirror_mode": {
    "name": "ipython",
    "version": 3
   },
   "file_extension": ".py",
   "mimetype": "text/x-python",
   "name": "python",
   "nbconvert_exporter": "python",
   "pygments_lexer": "ipython3",
   "version": "3.7.1"
  }
 },
 "nbformat": 4,
 "nbformat_minor": 2
}
