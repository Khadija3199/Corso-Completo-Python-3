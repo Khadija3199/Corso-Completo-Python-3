{
 "cells": [
  {
   "cell_type": "markdown",
   "metadata": {},
   "source": [
    "## Esercizi - Costruzioni di Lista"
   ]
  },
  {
   "cell_type": "markdown",
   "metadata": {},
   "source": [
    "<b>Esercizio 1</b>"
   ]
  },
  {
   "cell_type": "code",
   "execution_count": null,
   "metadata": {},
   "outputs": [],
   "source": [
    "nome = 'Sofia'"
   ]
  },
  {
   "cell_type": "code",
   "execution_count": null,
   "metadata": {},
   "outputs": [],
   "source": [
    "#lista = []\n",
    "#for lettera in nome:\n",
    "    #lista.append(lettera)\n",
    "#lista"
   ]
  },
  {
   "cell_type": "markdown",
   "metadata": {},
   "source": [
    "Modifica il codice utilizzando le costruzioni di lista.<br>\n",
    "Mostra il contenuto di <code>lista</code>.<br>\n",
    "Output desiderato:<br>\n",
    "<code><font color=green><b>['S', 'o', 'f', 'i', 'a']</b></font></code><br>"
   ]
  },
  {
   "cell_type": "code",
   "execution_count": null,
   "metadata": {},
   "outputs": [],
   "source": []
  },
  {
   "cell_type": "markdown",
   "metadata": {},
   "source": [
    "<b>Esercizio 2</b>"
   ]
  },
  {
   "cell_type": "markdown",
   "metadata": {},
   "source": [
    "Utilizzando le costruzioni di lista, salva nella variabile <code>lista2</code> una lista di numeri.<br>\n",
    "Utilizza la funzione <code>range</code> con i numeri che vanno da <code>10</code> a <code>20</code> incluso.<br>\n",
    "Salva in <code>lista2</code> il cubo del numero che ricavi dalla funzione <code>range</code>.<br>\n",
    "Mostra il contenuto di <code>lista2</code>.<br>\n",
    "Output desiderato:<br>\n",
    "<code><font color=green><b>[1000, 1331, 1728, 2197, 2744, 3375, 4096, 4913, 5832, 6859, 8000]</b></font></code><br>"
   ]
  },
  {
   "cell_type": "code",
   "execution_count": null,
   "metadata": {},
   "outputs": [],
   "source": []
  },
  {
   "cell_type": "markdown",
   "metadata": {},
   "source": [
    "<b>Esercizio 3</b>"
   ]
  },
  {
   "cell_type": "markdown",
   "metadata": {},
   "source": [
    "Utilizzando le costruzioni di lista, salva nella variabile <code>lista3</code> una lista di numeri.<br>\n",
    "Utilizza la funzione <code>range</code> con i numeri che vanno da <code>0</code> a <code>11</code> escluso.<br>\n",
    "Salva in <code>lista3</code> il quadrato del numero che ricavi dalla funzione <code>range</code> solo se il numero è un numero pari.<br>\n",
    "Mostra il contenuto di <code>lista3</code>.<br>\n",
    "Output desiderato:<br>\n",
    "<code><font color=green><b>[0, 4, 16, 36, 64, 100]</b></font></code><br>"
   ]
  },
  {
   "cell_type": "code",
   "execution_count": null,
   "metadata": {},
   "outputs": [],
   "source": []
  },
  {
   "cell_type": "markdown",
   "metadata": {},
   "source": [
    "<b>Esercizio 4</b>"
   ]
  },
  {
   "cell_type": "code",
   "execution_count": null,
   "metadata": {},
   "outputs": [],
   "source": [
    "lista4 = [2,4,6]\n",
    "lista5 = [10,20,40]"
   ]
  },
  {
   "cell_type": "code",
   "execution_count": null,
   "metadata": {},
   "outputs": [],
   "source": [
    "#lista6 = []\n",
    "#for x in lista4:\n",
    "    #for y in lista5:\n",
    "        #lista6.append(x + y)\n",
    "#lista6"
   ]
  },
  {
   "cell_type": "markdown",
   "metadata": {},
   "source": [
    "Modifica il codice utilizzando le costruzioni di lista.<br>\n",
    "Mostra il contenuto di <code>lista6</code>.<br>\n",
    "Output desiderato:<br>\n",
    "<code><font color=green><b>[12, 22, 42, 14, 24, 44, 16, 26, 46]</b></font></code><br>"
   ]
  },
  {
   "cell_type": "code",
   "execution_count": null,
   "metadata": {},
   "outputs": [],
   "source": []
  }
 ],
 "metadata": {
  "kernelspec": {
   "display_name": "Python 3",
   "language": "python",
   "name": "python3"
  },
  "language_info": {
   "codemirror_mode": {
    "name": "ipython",
    "version": 3
   },
   "file_extension": ".py",
   "mimetype": "text/x-python",
   "name": "python",
   "nbconvert_exporter": "python",
   "pygments_lexer": "ipython3",
   "version": "3.7.1"
  }
 },
 "nbformat": 4,
 "nbformat_minor": 2
}
