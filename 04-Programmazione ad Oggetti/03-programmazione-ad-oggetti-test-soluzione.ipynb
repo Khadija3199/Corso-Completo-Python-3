{
 "cells": [
  {
   "cell_type": "markdown",
   "metadata": {},
   "source": [
    "## Esercizi - Programmazione ad Oggetti"
   ]
  },
  {
   "cell_type": "markdown",
   "metadata": {},
   "source": [
    "<b>Esercizio 1</b>"
   ]
  },
  {
   "cell_type": "markdown",
   "metadata": {},
   "source": [
    "Completa la classe <code>Cilindro</code>.<br>\n",
    "Calcola il volume e l'area fornendo i valori <code>2</code> e <code>3</code> rispettivamente come altezza e raggio.<br>\n",
    "Output desiderato:<br>\n",
    "<code><font color=green><b>56.52</b></font></code><br>\n",
    "<code><font color=green><b>94.2</b></font></code>"
   ]
  },
  {
   "cell_type": "code",
   "execution_count": null,
   "metadata": {},
   "outputs": [],
   "source": [
    "class Cilindro:\n",
    "    \n",
    "    def __init__(self,altezza=1,raggio=1):\n",
    "        self.altezza = altezza\n",
    "        self.raggio = raggio\n",
    "        \n",
    "    def volume(self):\n",
    "        return ((3.14 * self.raggio**2)* self.altezza)\n",
    "    \n",
    "    def area(self):\n",
    "        return(2 * 3.14 * self.raggio * (self.raggio + self.altezza))\n",
    "c = Cilindro(2,3)\n",
    "print(c.volume())\n",
    "print(c.area())"
   ]
  },
  {
   "cell_type": "markdown",
   "metadata": {},
   "source": [
    "<b>Esercizio 2</b>"
   ]
  },
  {
   "cell_type": "markdown",
   "metadata": {},
   "source": [
    "Crea una classa chiamata <code>Banca</code> costituita da due parametri <code>proprietario</code> e <code>saldo</code> e da due metodi <code>deposito</code> e <code>prelievo</code>.<br>"
   ]
  },
  {
   "cell_type": "code",
   "execution_count": 10,
   "metadata": {},
   "outputs": [],
   "source": [
    "class Banca:\n",
    "    def __init__(self,proprietario,saldo):\n",
    "        self.proprietario = proprietario\n",
    "        self.saldo = saldo\n",
    "    def deposito(self,importo):\n",
    "        self.saldo += importo\n",
    "        print(f'Deposito riuscito, nuovo saldo: {self.saldo}')\n",
    "    def prelievo(self,importo):\n",
    "        if(importo <= self.saldo):\n",
    "            self.saldo -= importo\n",
    "            print('Prelievo riuscito')\n",
    "        else:\n",
    "            print('Fondi insufficienti')"
   ]
  },
  {
   "cell_type": "markdown",
   "metadata": {},
   "source": [
    "<b>Esercizio 2a</b>"
   ]
  },
  {
   "cell_type": "markdown",
   "metadata": {},
   "source": [
    "Crea un'istanza della classe <code>Banca</code> con il nome <code>account</code> e con i valori <code>'Sofia'</code> e <code>100</code>.<br>\n",
    "Stampa l'attributo <code>proprietario</code>.<br>\n",
    "Stampa l'attributo <code>saldo</code>.<br>\n",
    "Output desiderato:<br>\n",
    "<code><font color=green><b>Sofia</b></font></code><br>\n",
    "<code><font color=green><b>100</b></font></code><br>"
   ]
  },
  {
   "cell_type": "code",
   "execution_count": 11,
   "metadata": {},
   "outputs": [
    {
     "name": "stdout",
     "output_type": "stream",
     "text": [
      "Sofia\n",
      "100\n"
     ]
    }
   ],
   "source": [
    "account = Banca('Sofia',100)\n",
    "print(account.proprietario)\n",
    "print(account.saldo)"
   ]
  },
  {
   "cell_type": "markdown",
   "metadata": {},
   "source": [
    "<b>Esercizio 2b</b>"
   ]
  },
  {
   "cell_type": "markdown",
   "metadata": {},
   "source": [
    "Effettua un deposito da <code>200</code> e uno da <code>150</code> utilizzando il metodo <code>deposito</code>.<br>\n",
    "Ad ogni deposito stampa la frase come nell'output.<br>\n",
    "Output desiderato:<br>\n",
    "<code><font color=green><b>Deposito riuscito, nuovo saldo: 300</b></font></code><br>\n",
    "<code><font color=green><b>Deposito riuscito, nuovo saldo: 450</b></font></code>"
   ]
  },
  {
   "cell_type": "code",
   "execution_count": 12,
   "metadata": {},
   "outputs": [
    {
     "name": "stdout",
     "output_type": "stream",
     "text": [
      "Deposito riuscito, nuovo saldo: 300\n",
      "Deposito riuscito, nuovo saldo: 450\n"
     ]
    }
   ],
   "source": [
    "account.deposito(200)\n",
    "account.deposito(150)"
   ]
  },
  {
   "cell_type": "markdown",
   "metadata": {},
   "source": [
    "<b>Esercizio 3c</b>"
   ]
  },
  {
   "cell_type": "markdown",
   "metadata": {},
   "source": [
    "Effettua un prelievo da <code>150</code> e uno da <code>500</code> utilizzando il metodo <code>prelievo</code>.<br>\n",
    "Se il prelievo avviene con successo stampa la frase <code>'Prelievo confermato'</code>.<br>\n",
    "<b>Attenzione!</b> Se l'importo non è sufficiente stampa la frase <code>'Fondi insufficienti'</code><br>\n",
    "Output desiderato:<br>\n",
    "<code><font color=green><b>Prelievo riuscito</b></font></code><br>\n",
    "<code><font color=green><b>Fondi insufficienti</b></font></code>"
   ]
  },
  {
   "cell_type": "code",
   "execution_count": 13,
   "metadata": {},
   "outputs": [
    {
     "name": "stdout",
     "output_type": "stream",
     "text": [
      "Prelievo riuscito\n",
      "Fondi insufficienti\n"
     ]
    }
   ],
   "source": [
    "account.prelievo(150)\n",
    "account.prelievo(500)"
   ]
  },
  {
   "cell_type": "code",
   "execution_count": null,
   "metadata": {},
   "outputs": [],
   "source": []
  }
 ],
 "metadata": {
  "kernelspec": {
   "display_name": "Python 3",
   "language": "python",
   "name": "python3"
  },
  "language_info": {
   "codemirror_mode": {
    "name": "ipython",
    "version": 3
   },
   "file_extension": ".py",
   "mimetype": "text/x-python",
   "name": "python",
   "nbconvert_exporter": "python",
   "pygments_lexer": "ipython3",
   "version": "3.7.1"
  }
 },
 "nbformat": 4,
 "nbformat_minor": 2
}
