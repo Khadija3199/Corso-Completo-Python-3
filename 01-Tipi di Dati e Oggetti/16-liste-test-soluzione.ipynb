{
 "cells": [
  {
   "cell_type": "markdown",
   "metadata": {},
   "source": [
    "## Esercizi - Liste"
   ]
  },
  {
   "cell_type": "markdown",
   "metadata": {},
   "source": [
    "<b>Esercizio 1</b>"
   ]
  },
  {
   "cell_type": "markdown",
   "metadata": {},
   "source": [
    "<code>'Le liste sono sequenze ordinate di oggetti.'<br></code>\n",
    "Output desiderato:<br>\n",
    "Scrivi <code><font color=green>**True**</font></code> se pensi che l'affermazione sia corretta, altrimenti scrivi <code><font color=red>**False**</font></code>."
   ]
  },
  {
   "cell_type": "code",
   "execution_count": null,
   "metadata": {},
   "outputs": [],
   "source": [
    "True"
   ]
  },
  {
   "cell_type": "markdown",
   "metadata": {},
   "source": [
    "<b>Esercizio 2</b>"
   ]
  },
  {
   "cell_type": "markdown",
   "metadata": {},
   "source": [
    "<code>'Ogni lista si dichiara utilizzando le parentesi graffe {}.'<br></code>\n",
    "Output desiderato:<br>\n",
    "Scrivi <code><font color=green>**True**</font></code> se pensi che l'affermazione sia corretta, altrimenti scrivi <code><font color=red>**False**</font></code>."
   ]
  },
  {
   "cell_type": "code",
   "execution_count": null,
   "metadata": {},
   "outputs": [],
   "source": [
    "False"
   ]
  },
  {
   "cell_type": "markdown",
   "metadata": {},
   "source": [
    "<b>Esercizio 3</b>"
   ]
  },
  {
   "cell_type": "markdown",
   "metadata": {},
   "source": [
    "<code>'Le liste supportano l'indicizzazione ma non la divisione.'<br></code>\n",
    "Output desiderato:<br>\n",
    "Scrivi <code><font color=green>**True**</font></code> se pensi che l'affermazione sia corretta, altrimenti scrivi <code><font color=red>**False**</font></code>."
   ]
  },
  {
   "cell_type": "code",
   "execution_count": null,
   "metadata": {},
   "outputs": [],
   "source": [
    "False"
   ]
  },
  {
   "cell_type": "markdown",
   "metadata": {},
   "source": [
    "<b>Esercizio 4</b>"
   ]
  },
  {
   "cell_type": "markdown",
   "metadata": {},
   "source": [
    "<code>'Le liste supportano oggetti di vario tipo.'<br></code>\n",
    "Output desiderato:<br>\n",
    "Scrivi <code><font color=green>**True**</font></code> se pensi che l'affermazione sia corretta, altrimenti scrivi <code><font color=red>**False**</font></code>."
   ]
  },
  {
   "cell_type": "code",
   "execution_count": null,
   "metadata": {},
   "outputs": [],
   "source": [
    "True"
   ]
  },
  {
   "cell_type": "markdown",
   "metadata": {},
   "source": [
    "<b>Esercizio 5</b>"
   ]
  },
  {
   "cell_type": "markdown",
   "metadata": {},
   "source": [
    "Crea una lista e mostrane il contenuto.<br>\n",
    "Output desiderato:<br>\n",
    "<code><font color=green>**[5, 6, 7, 8]**</font></code><br>"
   ]
  },
  {
   "cell_type": "code",
   "execution_count": 1,
   "metadata": {},
   "outputs": [
    {
     "data": {
      "text/plain": [
       "[5, 6, 7, 8]"
      ]
     },
     "execution_count": 1,
     "metadata": {},
     "output_type": "execute_result"
    }
   ],
   "source": [
    "lista = [5,6,7,8]\n",
    "lista"
   ]
  },
  {
   "cell_type": "markdown",
   "metadata": {},
   "source": [
    "<b>Esercizio 6</b>"
   ]
  },
  {
   "cell_type": "markdown",
   "metadata": {},
   "source": [
    "Crea una lista e mostrane il contenuto.<br>\n",
    "Output desiderato:<br>\n",
    "<code><font color=green>**[25,'Mare',15.45]**</font></code><br>"
   ]
  },
  {
   "cell_type": "code",
   "execution_count": 3,
   "metadata": {},
   "outputs": [
    {
     "data": {
      "text/plain": [
       "[25, 'Mare', 15.45]"
      ]
     },
     "execution_count": 3,
     "metadata": {},
     "output_type": "execute_result"
    }
   ],
   "source": [
    "lista = [25,'Mare',15.45]\n",
    "lista"
   ]
  },
  {
   "cell_type": "markdown",
   "metadata": {},
   "source": [
    "<b>Esercizio 7</b>"
   ]
  },
  {
   "cell_type": "code",
   "execution_count": 4,
   "metadata": {},
   "outputs": [],
   "source": [
    "lista = [923,'c',12.3,45.3,56.5,'aa','f',11]"
   ]
  },
  {
   "cell_type": "markdown",
   "metadata": {},
   "source": [
    "Ottieni la lunghezza di <code>lista</code>."
   ]
  },
  {
   "cell_type": "code",
   "execution_count": 5,
   "metadata": {},
   "outputs": [
    {
     "data": {
      "text/plain": [
       "8"
      ]
     },
     "execution_count": 5,
     "metadata": {},
     "output_type": "execute_result"
    }
   ],
   "source": [
    "len(lista)"
   ]
  },
  {
   "cell_type": "markdown",
   "metadata": {},
   "source": [
    "<b>Esercizio 8</b>"
   ]
  },
  {
   "cell_type": "markdown",
   "metadata": {},
   "source": [
    "Ottieni l'elemento con indice <code>0</code> della <code>lista</code>."
   ]
  },
  {
   "cell_type": "code",
   "execution_count": 6,
   "metadata": {},
   "outputs": [
    {
     "data": {
      "text/plain": [
       "923"
      ]
     },
     "execution_count": 6,
     "metadata": {},
     "output_type": "execute_result"
    }
   ],
   "source": [
    "lista[0]"
   ]
  },
  {
   "cell_type": "markdown",
   "metadata": {},
   "source": [
    "<b>Esercizio 9</b>"
   ]
  },
  {
   "cell_type": "markdown",
   "metadata": {},
   "source": [
    "Ottieni il quarto elemento della <code>lista</code>.<br>\n",
    "Output desiderato:<br>\n",
    "<code><font color=green>**45.3**</font></code><br>"
   ]
  },
  {
   "cell_type": "code",
   "execution_count": 7,
   "metadata": {},
   "outputs": [
    {
     "data": {
      "text/plain": [
       "45.3"
      ]
     },
     "execution_count": 7,
     "metadata": {},
     "output_type": "execute_result"
    }
   ],
   "source": [
    "lista[3]"
   ]
  },
  {
   "cell_type": "markdown",
   "metadata": {},
   "source": [
    "<b>Esercizio 10</b>"
   ]
  },
  {
   "cell_type": "markdown",
   "metadata": {},
   "source": [
    "Ottieni tutti gli elementi della <code>lista</code> partendo dal terzo.\n",
    "<br>\n",
    "Output desiderato:<br>\n",
    "<code><font color=green>**[12.3, 45.3, 56.5, 'aa', 'f', 11]**</font></code><br>"
   ]
  },
  {
   "cell_type": "code",
   "execution_count": 8,
   "metadata": {},
   "outputs": [
    {
     "data": {
      "text/plain": [
       "[12.3, 45.3, 56.5, 'aa', 'f', 11]"
      ]
     },
     "execution_count": 8,
     "metadata": {},
     "output_type": "execute_result"
    }
   ],
   "source": [
    "lista[2:]"
   ]
  },
  {
   "cell_type": "markdown",
   "metadata": {},
   "source": [
    "<b>Esercizio 11</b>"
   ]
  },
  {
   "cell_type": "markdown",
   "metadata": {},
   "source": [
    "Ottieni tutti gli elementi della <code>lista</code> che vanno dall'inizio fino al 5 elemento incluso.<br>\n",
    "Output desiderato:<br>\n",
    "<code><font color=green>**[923, 'c', 12.3, 45.3, 56.5]**</font></code><br>"
   ]
  },
  {
   "cell_type": "code",
   "execution_count": 9,
   "metadata": {},
   "outputs": [
    {
     "data": {
      "text/plain": [
       "[923, 'c', 12.3, 45.3, 56.5]"
      ]
     },
     "execution_count": 9,
     "metadata": {},
     "output_type": "execute_result"
    }
   ],
   "source": [
    "lista[:5]"
   ]
  },
  {
   "cell_type": "markdown",
   "metadata": {},
   "source": [
    "<b>Esercizio 12</b>"
   ]
  },
  {
   "cell_type": "markdown",
   "metadata": {},
   "source": [
    "Ottieni tutti gli elementi della <code>lista</code> che vanno dall'inizio alla fine, però salta ogni volta un elemento.\n",
    "<br>\n",
    "Output desiderato:<br>\n",
    "<code><font color=green>**[923, 12.3, 56.5, 'f']**</font></code><br>"
   ]
  },
  {
   "cell_type": "code",
   "execution_count": 10,
   "metadata": {},
   "outputs": [
    {
     "data": {
      "text/plain": [
       "[923, 12.3, 56.5, 'f']"
      ]
     },
     "execution_count": 10,
     "metadata": {},
     "output_type": "execute_result"
    }
   ],
   "source": [
    "lista[::2]"
   ]
  },
  {
   "cell_type": "markdown",
   "metadata": {},
   "source": [
    "<b>Esercizio 13</b>"
   ]
  },
  {
   "cell_type": "code",
   "execution_count": 11,
   "metadata": {},
   "outputs": [],
   "source": [
    "lista1 = ['uno','due','tre']\n",
    "lista2 = ['quattro','cinque','sei']"
   ]
  },
  {
   "cell_type": "markdown",
   "metadata": {},
   "source": [
    "Concatena <code>lista1</code> e <code>lista2</code> e salva il tutto nella variabile <code>lista3</code>.<br>Mostra poi il contenuto di lista3.<br>\n",
    "Output desiderato:<br>\n",
    "<code><font color=green>**['uno', 'due', 'tre', 'quattro', 'cinque', 'sei']**</font></code><br>"
   ]
  },
  {
   "cell_type": "code",
   "execution_count": 12,
   "metadata": {},
   "outputs": [
    {
     "data": {
      "text/plain": [
       "['uno', 'due', 'tre', 'quattro', 'cinque', 'sei']"
      ]
     },
     "execution_count": 12,
     "metadata": {},
     "output_type": "execute_result"
    }
   ],
   "source": [
    "lista3 = lista1 + lista2\n",
    "lista3"
   ]
  },
  {
   "cell_type": "markdown",
   "metadata": {},
   "source": [
    "<b>Esercizio 14</b>"
   ]
  },
  {
   "cell_type": "markdown",
   "metadata": {},
   "source": [
    "Alla <code>lista1</code> aggiungi la parola <code>'quattro'</code>.<br>\n",
    "Mostra poi il contenuto di lista1.<br>\n",
    "Output desiderato:<br>\n",
    "<code><font color=green>**['uno', 'due', 'tre', 'quattro']**</font></code><br>"
   ]
  },
  {
   "cell_type": "code",
   "execution_count": 13,
   "metadata": {},
   "outputs": [
    {
     "data": {
      "text/plain": [
       "['uno', 'due', 'tre', 'quattro']"
      ]
     },
     "execution_count": 13,
     "metadata": {},
     "output_type": "execute_result"
    }
   ],
   "source": [
    "lista1.append('quattro')\n",
    "lista1"
   ]
  },
  {
   "cell_type": "markdown",
   "metadata": {},
   "source": [
    "<b>Esercizio 15</b>"
   ]
  },
  {
   "cell_type": "markdown",
   "metadata": {},
   "source": [
    "Alla <code>lista1</code> rimuovi l'ultimo elemento aggiunto.<br>\n",
    "Mostra poi il contenuto di lista1.<br>\n",
    "Output desiderato:<br>\n",
    "<code><font color=green>**['uno', 'due', 'tre']**</font></code><br>"
   ]
  },
  {
   "cell_type": "code",
   "execution_count": 14,
   "metadata": {},
   "outputs": [
    {
     "data": {
      "text/plain": [
       "['uno', 'due', 'tre']"
      ]
     },
     "execution_count": 14,
     "metadata": {},
     "output_type": "execute_result"
    }
   ],
   "source": [
    "lista1.pop()\n",
    "lista1"
   ]
  },
  {
   "cell_type": "markdown",
   "metadata": {},
   "source": [
    "<b>Esercizio 16</b>"
   ]
  },
  {
   "cell_type": "markdown",
   "metadata": {},
   "source": [
    "Rimuovi il valore <code>'cinque'</code> dalla <code>lista2</code> utilizzando l'indice negativo.<br>\n",
    "Mostra poi il contenuto di lista2.<br>\n",
    "Output desiderato:<br>\n",
    "<code><font color=green>**['quattro', 'sei']**</font></code><br>"
   ]
  },
  {
   "cell_type": "code",
   "execution_count": 16,
   "metadata": {
    "scrolled": true
   },
   "outputs": [
    {
     "data": {
      "text/plain": [
       "['quattro', 'sei']"
      ]
     },
     "execution_count": 16,
     "metadata": {},
     "output_type": "execute_result"
    }
   ],
   "source": [
    "lista2.pop(-2)\n",
    "lista2"
   ]
  },
  {
   "cell_type": "markdown",
   "metadata": {},
   "source": [
    "<b>Esercizio 17</b>"
   ]
  },
  {
   "cell_type": "code",
   "execution_count": 17,
   "metadata": {},
   "outputs": [],
   "source": [
    "lista_a = ['c','z','h','f','l','a']"
   ]
  },
  {
   "cell_type": "markdown",
   "metadata": {},
   "source": [
    "Riordina i valori di <code>lista_a</code>.<br>\n",
    "Mostra poi il contenuto di <code>lista_a</code>.<br>\n",
    "Output desiderato:<br>\n",
    "<code><font color=green>**['a', 'c', 'f', 'h', 'l', 'z']**</font></code><br>"
   ]
  },
  {
   "cell_type": "code",
   "execution_count": 18,
   "metadata": {},
   "outputs": [
    {
     "data": {
      "text/plain": [
       "['a', 'c', 'f', 'h', 'l', 'z']"
      ]
     },
     "execution_count": 18,
     "metadata": {},
     "output_type": "execute_result"
    }
   ],
   "source": [
    "lista_a.sort()\n",
    "lista_a"
   ]
  },
  {
   "cell_type": "markdown",
   "metadata": {},
   "source": [
    "<b>Esercizio 18</b>"
   ]
  },
  {
   "cell_type": "markdown",
   "metadata": {},
   "source": [
    "Inverti i valori di <code>lista_a</code>.<br>\n",
    "Mostra poi il contenuto di <code>lista_a</code>.<br>\n",
    "Output desiderato:<br>\n",
    "<code><font color=green>**['z', 'l', 'h', 'f', 'c', 'a']**</font></code><br>"
   ]
  },
  {
   "cell_type": "code",
   "execution_count": 19,
   "metadata": {},
   "outputs": [
    {
     "data": {
      "text/plain": [
       "['z', 'l', 'h', 'f', 'c', 'a']"
      ]
     },
     "execution_count": 19,
     "metadata": {},
     "output_type": "execute_result"
    }
   ],
   "source": [
    "lista_a.reverse()\n",
    "lista_a"
   ]
  },
  {
   "cell_type": "markdown",
   "metadata": {},
   "source": [
    "<b>Esercizio 19</b>"
   ]
  },
  {
   "cell_type": "code",
   "execution_count": 20,
   "metadata": {},
   "outputs": [],
   "source": [
    "lista_b = [50.4,123,13.345,25]"
   ]
  },
  {
   "cell_type": "markdown",
   "metadata": {},
   "source": [
    "Utilizzando il metodo corretto estendi alla <code>lista_a</code> tutta la lista <code>lista_b</code>.<br>\n",
    "Mostra poi il contenuto di <code>lista_a</code>.<br>\n",
    "Output desiderato:<br>\n",
    "<code><font color=green>**['z', 'l', 'h', 'f', 'c', 'a', 50.4, 123, 13.345, 25]**</font></code><br>"
   ]
  },
  {
   "cell_type": "code",
   "execution_count": 21,
   "metadata": {},
   "outputs": [
    {
     "data": {
      "text/plain": [
       "['z', 'l', 'h', 'f', 'c', 'a', 50.4, 123, 13.345, 25]"
      ]
     },
     "execution_count": 21,
     "metadata": {},
     "output_type": "execute_result"
    }
   ],
   "source": [
    "lista_a.extend(lista_b)\n",
    "lista_a"
   ]
  },
  {
   "cell_type": "markdown",
   "metadata": {},
   "source": [
    "<b>Esercizio 20</b>"
   ]
  },
  {
   "cell_type": "markdown",
   "metadata": {},
   "source": [
    "Inserisci il valore <code>123</code> in <code>lista_a</code> in terza posizione.<br>\n",
    "Mostra poi il contenuto di <code>lista_a</code>.<br>\n",
    "Output desiderato:<br>\n",
    "<code><font color=green>**['z', 'l', 123, 'h', 'f', 'c', 'a', 50.4, 123, 13.345, 25]**</font></code><br>"
   ]
  },
  {
   "cell_type": "code",
   "execution_count": 22,
   "metadata": {},
   "outputs": [
    {
     "data": {
      "text/plain": [
       "['z', 'l', 123, 'h', 'f', 'c', 'a', 50.4, 123, 13.345, 25]"
      ]
     },
     "execution_count": 22,
     "metadata": {},
     "output_type": "execute_result"
    }
   ],
   "source": [
    "lista_a.insert(2,123)\n",
    "lista_a"
   ]
  },
  {
   "cell_type": "markdown",
   "metadata": {},
   "source": [
    "<b>Esercizio 21</b>"
   ]
  },
  {
   "cell_type": "markdown",
   "metadata": {},
   "source": [
    "Conta le occorrenze del valore <code>123</code> in <code>lista_a</code>."
   ]
  },
  {
   "cell_type": "code",
   "execution_count": 24,
   "metadata": {},
   "outputs": [
    {
     "data": {
      "text/plain": [
       "2"
      ]
     },
     "execution_count": 24,
     "metadata": {},
     "output_type": "execute_result"
    }
   ],
   "source": [
    "lista_a.count(123)"
   ]
  },
  {
   "cell_type": "markdown",
   "metadata": {},
   "source": [
    "<b>Esercizio 22</b>"
   ]
  },
  {
   "cell_type": "code",
   "execution_count": 25,
   "metadata": {},
   "outputs": [],
   "source": [
    "lista_vecchia = [15,50,13.4]"
   ]
  },
  {
   "cell_type": "markdown",
   "metadata": {},
   "source": [
    "Copia <code>lista_vecchia</code> in <code>lista_nuova</code> utilizzando il metodo appropriato.<br>\n",
    "Aggiungi poi il valore <code>5</code> in <code>lista_nuova</code>.<br>\n",
    "Stampa sia il contenuto di <code>lista_vecchia</code> che di <code>lista_nuova</code>."
   ]
  },
  {
   "cell_type": "code",
   "execution_count": 26,
   "metadata": {},
   "outputs": [
    {
     "name": "stdout",
     "output_type": "stream",
     "text": [
      "[15, 50, 13.4]\n",
      "[15, 50, 13.4, 5]\n"
     ]
    }
   ],
   "source": [
    "lista_nuova = lista_vecchia.copy()\n",
    "lista_nuova.append(5)\n",
    "print(lista_vecchia)\n",
    "print(lista_nuova)"
   ]
  },
  {
   "cell_type": "code",
   "execution_count": null,
   "metadata": {},
   "outputs": [],
   "source": []
  }
 ],
 "metadata": {
  "kernelspec": {
   "display_name": "Python 3",
   "language": "python",
   "name": "python3"
  },
  "language_info": {
   "codemirror_mode": {
    "name": "ipython",
    "version": 3
   },
   "file_extension": ".py",
   "mimetype": "text/x-python",
   "name": "python",
   "nbconvert_exporter": "python",
   "pygments_lexer": "ipython3",
   "version": "3.7.1"
  }
 },
 "nbformat": 4,
 "nbformat_minor": 2
}
