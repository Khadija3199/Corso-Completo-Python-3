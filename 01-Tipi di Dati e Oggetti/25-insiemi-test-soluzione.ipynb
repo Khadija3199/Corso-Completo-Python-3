{
 "cells": [
  {
   "cell_type": "markdown",
   "metadata": {},
   "source": [
    "## Esercizi - Insiemi"
   ]
  },
  {
   "cell_type": "markdown",
   "metadata": {},
   "source": [
    "<b>Esercizio 1</b>"
   ]
  },
  {
   "cell_type": "markdown",
   "metadata": {},
   "source": [
    "<code>'Gli insiemi sono collezioni ordinate di elementi unici.'<br></code>\n",
    "Output desiderato:<br>\n",
    "Scrivi <code><font color=green>**True**</font></code> se pensi che l'affermazione sia corretta, altrimenti scrivi <code><font color=red>**False**</font></code>."
   ]
  },
  {
   "cell_type": "code",
   "execution_count": null,
   "metadata": {},
   "outputs": [],
   "source": [
    "False"
   ]
  },
  {
   "cell_type": "markdown",
   "metadata": {},
   "source": [
    "<b>Esercizio 2</b>"
   ]
  },
  {
   "cell_type": "markdown",
   "metadata": {},
   "source": [
    "<code>'Ogni insieme si dichiara utilizzando le parentesi graffe {}.'<br></code>\n",
    "Output desiderato:<br>\n",
    "Scrivi <code><font color=green>**True**</font></code> se pensi che l'affermazione sia corretta, altrimenti scrivi <code><font color=red>**False**</font></code>."
   ]
  },
  {
   "cell_type": "code",
   "execution_count": null,
   "metadata": {},
   "outputs": [],
   "source": [
    "True"
   ]
  },
  {
   "cell_type": "markdown",
   "metadata": {},
   "source": [
    "<b>Esercizio 3</b>"
   ]
  },
  {
   "cell_type": "markdown",
   "metadata": {},
   "source": [
    "<code>'Gli insiemi possono contenere più volte gli stessi elementi.'<br></code>\n",
    "Output desiderato:<br>\n",
    "Scrivi <code><font color=green>**True**</font></code> se pensi che l'affermazione sia corretta, altrimenti scrivi <code><font color=red>**False**</font></code>."
   ]
  },
  {
   "cell_type": "code",
   "execution_count": null,
   "metadata": {},
   "outputs": [],
   "source": [
    "False"
   ]
  },
  {
   "cell_type": "markdown",
   "metadata": {},
   "source": [
    "<b>Esercizio 4</b>"
   ]
  },
  {
   "cell_type": "markdown",
   "metadata": {},
   "source": [
    "<code>'Sugli insiemi possiamo svolgere operazioni di unione, intersezione, differenza e differenza simmetrica.'<br></code>\n",
    "Output desiderato:<br>\n",
    "Scrivi <code><font color=green>**True**</font></code> se pensi che l'affermazione sia corretta, altrimenti scrivi <code><font color=red>**False**</font></code>."
   ]
  },
  {
   "cell_type": "code",
   "execution_count": null,
   "metadata": {},
   "outputs": [],
   "source": [
    "True"
   ]
  },
  {
   "cell_type": "markdown",
   "metadata": {},
   "source": [
    "<b>Esercizio 5</b>"
   ]
  },
  {
   "cell_type": "markdown",
   "metadata": {},
   "source": [
    "Crea un insieme chiamato <code>insieme</code> e mostrane il contenuto.<br>\n",
    "Output desiderato:<br>\n",
    "<code><font color=green>**{5, 6, 7, 8}**</font></code><br>"
   ]
  },
  {
   "cell_type": "code",
   "execution_count": 1,
   "metadata": {},
   "outputs": [
    {
     "data": {
      "text/plain": [
       "{5, 6, 7, 8}"
      ]
     },
     "execution_count": 1,
     "metadata": {},
     "output_type": "execute_result"
    }
   ],
   "source": [
    "insieme = {5,6,7,8}\n",
    "insieme"
   ]
  },
  {
   "cell_type": "markdown",
   "metadata": {},
   "source": [
    "<b>Esercizio 6</b>"
   ]
  },
  {
   "cell_type": "markdown",
   "metadata": {},
   "source": [
    "Crea un insieme chiamato <code>insieme</code> con i valori <code>4</code>,<code>4</code>,<code>4</code>,<code>5</code>,<code>5</code>,<code>6</code>,<code>6</code>,<code>6</code>,<code>7</code>,<code>7</code>,<code>7</code>,<code>7</code> e mostrane il contenuto.<br>\n",
    "Output desiderato:<br>\n",
    "<code><font color=green>**{4,5,6,7}**</font></code><br>"
   ]
  },
  {
   "cell_type": "code",
   "execution_count": 2,
   "metadata": {},
   "outputs": [
    {
     "data": {
      "text/plain": [
       "{4, 5, 6, 7}"
      ]
     },
     "execution_count": 2,
     "metadata": {},
     "output_type": "execute_result"
    }
   ],
   "source": [
    "insieme = {4,4,4,5,5,6,6,6,7,7,7,7}\n",
    "insieme"
   ]
  },
  {
   "cell_type": "markdown",
   "metadata": {},
   "source": [
    "<b>Esercizio 7</b>"
   ]
  },
  {
   "cell_type": "markdown",
   "metadata": {},
   "source": [
    "Utilizzando il metodo corretto, crea un insieme vuoto chiamato <code>set1</code>.<br>\n",
    "Mostra poi il contenuto di <code>set1</code>.<br>\n",
    "Output desiderato:<br>\n",
    "<code><font color=green>**set()**</font></code><br>"
   ]
  },
  {
   "cell_type": "code",
   "execution_count": 3,
   "metadata": {},
   "outputs": [
    {
     "data": {
      "text/plain": [
       "set()"
      ]
     },
     "execution_count": 3,
     "metadata": {},
     "output_type": "execute_result"
    }
   ],
   "source": [
    "set1 = set()\n",
    "set1"
   ]
  },
  {
   "cell_type": "markdown",
   "metadata": {},
   "source": [
    "<b>Esercizio 8</b>"
   ]
  },
  {
   "cell_type": "markdown",
   "metadata": {},
   "source": [
    "Utilizzando il metodo corretto, aggiungi il valore <code>1</code> all'insieme <code>set1</code>.<br>\n",
    "Mostra poi il contenuto di <code>set1</code>.<br>\n",
    "Output desiderato:<br>\n",
    "<code><font color=green>**{1}**</font></code><br>"
   ]
  },
  {
   "cell_type": "code",
   "execution_count": 4,
   "metadata": {},
   "outputs": [
    {
     "data": {
      "text/plain": [
       "{1}"
      ]
     },
     "execution_count": 4,
     "metadata": {},
     "output_type": "execute_result"
    }
   ],
   "source": [
    "set1.add(1)\n",
    "set1"
   ]
  },
  {
   "cell_type": "markdown",
   "metadata": {},
   "source": [
    "<b>Esercizio 9</b>"
   ]
  },
  {
   "cell_type": "code",
   "execution_count": 5,
   "metadata": {},
   "outputs": [],
   "source": [
    "lista1 = [20,50,20,50,30,50,30,50,20]"
   ]
  },
  {
   "cell_type": "markdown",
   "metadata": {},
   "source": [
    "Utilizzando il metodo corretto, converti <code>lista1</code> in un insieme.<br>\n",
    "Output desiderato:<br>\n",
    "<code><font color=green>**{20, 30, 50}**</font></code><br>"
   ]
  },
  {
   "cell_type": "code",
   "execution_count": 6,
   "metadata": {},
   "outputs": [
    {
     "data": {
      "text/plain": [
       "{20, 30, 50}"
      ]
     },
     "execution_count": 6,
     "metadata": {},
     "output_type": "execute_result"
    }
   ],
   "source": [
    "set(lista1)"
   ]
  },
  {
   "cell_type": "markdown",
   "metadata": {},
   "source": [
    "<b>Esercizio 10</b>"
   ]
  },
  {
   "cell_type": "markdown",
   "metadata": {},
   "source": [
    "Utilizzando il metodo corretto, aggiungi a <code>set1</code>, creato precedentemente, i valori <code>2</code>,<code>3</code> e <code>4</code> tutti presenti in una lista.<br>\n",
    "Utilizza una sola linea di codice.<br>\n",
    "Mostra poi il contenuto di <code>set1</code>.<br>\n",
    "Output desiderato:<br>\n",
    "<code><font color=green>**{1, 2, 3, 4}**</font></code>"
   ]
  },
  {
   "cell_type": "code",
   "execution_count": 7,
   "metadata": {},
   "outputs": [
    {
     "data": {
      "text/plain": [
       "{1, 2, 3, 4}"
      ]
     },
     "execution_count": 7,
     "metadata": {},
     "output_type": "execute_result"
    }
   ],
   "source": [
    "set1.update([2,3,4])\n",
    "set1"
   ]
  },
  {
   "cell_type": "markdown",
   "metadata": {},
   "source": [
    "<b>Esercizio 11</b>"
   ]
  },
  {
   "cell_type": "markdown",
   "metadata": {},
   "source": [
    "Utilizzando il metodo corretto, prova a rimuovere da <code>set1</code> il valore <code>5</code> senza generare alcun errore."
   ]
  },
  {
   "cell_type": "code",
   "execution_count": 8,
   "metadata": {},
   "outputs": [],
   "source": [
    "set1.discard(5)"
   ]
  },
  {
   "cell_type": "markdown",
   "metadata": {},
   "source": [
    "<b>Esercizio 12</b>"
   ]
  },
  {
   "cell_type": "markdown",
   "metadata": {},
   "source": [
    "Utilizzando il metodo corretto, rimuovere da <code>set1</code> un valore a caso.</code>"
   ]
  },
  {
   "cell_type": "code",
   "execution_count": 9,
   "metadata": {},
   "outputs": [
    {
     "data": {
      "text/plain": [
       "1"
      ]
     },
     "execution_count": 9,
     "metadata": {},
     "output_type": "execute_result"
    }
   ],
   "source": [
    "set1.pop()"
   ]
  },
  {
   "cell_type": "markdown",
   "metadata": {},
   "source": [
    "<b>Esercizio 13</b>"
   ]
  },
  {
   "cell_type": "markdown",
   "metadata": {},
   "source": [
    "Utilizzando il metodo corretto, elimina tutto il contenuto di <code>set1</code>.<br>\n",
    "Mostra poi il contenuto di <code>set1</code>.<br>\n",
    "Output desiderato:<br>\n",
    "<code><font color=green>**set()**</font></code><br>"
   ]
  },
  {
   "cell_type": "code",
   "execution_count": 10,
   "metadata": {},
   "outputs": [
    {
     "data": {
      "text/plain": [
       "set()"
      ]
     },
     "execution_count": 10,
     "metadata": {},
     "output_type": "execute_result"
    }
   ],
   "source": [
    "set1.clear()\n",
    "set1"
   ]
  },
  {
   "cell_type": "markdown",
   "metadata": {},
   "source": [
    "<b>Esercizio 14</b>"
   ]
  },
  {
   "cell_type": "code",
   "execution_count": 11,
   "metadata": {},
   "outputs": [],
   "source": [
    "set2 = {1,2,3,4}\n",
    "set3 = {3,4,5,6}"
   ]
  },
  {
   "cell_type": "markdown",
   "metadata": {},
   "source": [
    "Esegui l'unione tra <code>set2</code> e <code>set3</code>.<br>\n",
    "Output desiderato:<br>\n",
    "<code><font color=green>**{1, 2, 3, 4, 5, 6}**</font></code><br>"
   ]
  },
  {
   "cell_type": "code",
   "execution_count": 12,
   "metadata": {},
   "outputs": [
    {
     "data": {
      "text/plain": [
       "{1, 2, 3, 4, 5, 6}"
      ]
     },
     "execution_count": 12,
     "metadata": {},
     "output_type": "execute_result"
    }
   ],
   "source": [
    "set2.union(set3)"
   ]
  },
  {
   "cell_type": "markdown",
   "metadata": {},
   "source": [
    "<b>Esercizio 15</b>"
   ]
  },
  {
   "cell_type": "markdown",
   "metadata": {},
   "source": [
    "Esegui l'intersezione tra <code>set2</code> e <code>set3</code>.<br>\n",
    "Output desiderato:<br>\n",
    "<code><font color=green>**{3, 4}**</font></code><br>"
   ]
  },
  {
   "cell_type": "code",
   "execution_count": 13,
   "metadata": {},
   "outputs": [
    {
     "data": {
      "text/plain": [
       "{3, 4}"
      ]
     },
     "execution_count": 13,
     "metadata": {},
     "output_type": "execute_result"
    }
   ],
   "source": [
    "set2.intersection(set3)"
   ]
  },
  {
   "cell_type": "markdown",
   "metadata": {},
   "source": [
    "<b>Esercizio 16</b>"
   ]
  },
  {
   "cell_type": "markdown",
   "metadata": {},
   "source": [
    "Esegui la differenza tra <code>set2</code> e <code>set3</code>.<br>\n",
    "Output desiderato:<br>\n",
    "<code><font color=green>**{1, 2}**</font></code><br>"
   ]
  },
  {
   "cell_type": "code",
   "execution_count": 14,
   "metadata": {},
   "outputs": [
    {
     "data": {
      "text/plain": [
       "{1, 2}"
      ]
     },
     "execution_count": 14,
     "metadata": {},
     "output_type": "execute_result"
    }
   ],
   "source": [
    "set2.difference(set3)"
   ]
  },
  {
   "cell_type": "markdown",
   "metadata": {},
   "source": [
    "<b>Esercizio 17</b>"
   ]
  },
  {
   "cell_type": "markdown",
   "metadata": {},
   "source": [
    "Esegui la differenza simmetrica tra <code>set2</code> e <code>set3</code>.<br>\n",
    "Output desiderato:<br>\n",
    "<code><font color=green>**{1, 2, 5, 6}**</font></code><br>"
   ]
  },
  {
   "cell_type": "code",
   "execution_count": 15,
   "metadata": {},
   "outputs": [
    {
     "data": {
      "text/plain": [
       "{1, 2, 5, 6}"
      ]
     },
     "execution_count": 15,
     "metadata": {},
     "output_type": "execute_result"
    }
   ],
   "source": [
    "set2.symmetric_difference(set3)"
   ]
  },
  {
   "cell_type": "code",
   "execution_count": null,
   "metadata": {},
   "outputs": [],
   "source": []
  }
 ],
 "metadata": {
  "kernelspec": {
   "display_name": "Python 3",
   "language": "python",
   "name": "python3"
  },
  "language_info": {
   "codemirror_mode": {
    "name": "ipython",
    "version": 3
   },
   "file_extension": ".py",
   "mimetype": "text/x-python",
   "name": "python",
   "nbconvert_exporter": "python",
   "pygments_lexer": "ipython3",
   "version": "3.7.1"
  }
 },
 "nbformat": 4,
 "nbformat_minor": 2
}
