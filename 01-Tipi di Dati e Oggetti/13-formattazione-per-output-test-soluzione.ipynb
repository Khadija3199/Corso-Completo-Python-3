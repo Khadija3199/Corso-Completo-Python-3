{
 "cells": [
  {
   "cell_type": "markdown",
   "metadata": {},
   "source": [
    "## Esercizi - Formattazione per l'output"
   ]
  },
  {
   "cell_type": "markdown",
   "metadata": {},
   "source": [
    "<b>Esercizio 1</b>"
   ]
  },
  {
   "cell_type": "markdown",
   "metadata": {},
   "source": [
    "Stampa la frase <code>La mela è </code> seguita dalla parola <code>rossa</code>.<br>\n",
    "La parola <code>rossa</code> aggiungila con il format, in versione estesa.<br>\n",
    "Output desiderato:<br>\n",
    "<code><font color=green>**La mela è rossa**</font></code>"
   ]
  },
  {
   "cell_type": "code",
   "execution_count": 1,
   "metadata": {},
   "outputs": [
    {
     "name": "stdout",
     "output_type": "stream",
     "text": [
      "La mela è rossa\n"
     ]
    }
   ],
   "source": [
    "print('La mela è {}'.format('rossa'))"
   ]
  },
  {
   "cell_type": "markdown",
   "metadata": {},
   "source": [
    "<b>Esercizio 2</b>"
   ]
  },
  {
   "cell_type": "markdown",
   "metadata": {},
   "source": [
    "Avendo questo <code>format('verdura','frutta')</code> ottieni questo risultato:<br>\n",
    "Output desiderato:<br>\n",
    "<code><font color=green>**Preferisco la frutta alla verdura**</font></code><br>\n",
    "Utilizza gli indici."
   ]
  },
  {
   "cell_type": "code",
   "execution_count": 2,
   "metadata": {},
   "outputs": [
    {
     "name": "stdout",
     "output_type": "stream",
     "text": [
      "Preferisco la frutta alla verdura\n"
     ]
    }
   ],
   "source": [
    "print('Preferisco la {1} alla {0}'.format('verdura','frutta'))"
   ]
  },
  {
   "cell_type": "markdown",
   "metadata": {},
   "source": [
    "<b>Esercizio 3</b>"
   ]
  },
  {
   "cell_type": "markdown",
   "metadata": {},
   "source": [
    "Avendo questo <code>format(professione='studente',nome='Olivia',eta='24')</code> ottieni questo risultato:<br>\n",
    "Output desiderato:<br>\n",
    "<code><font color=green>**Il mio nome è Olivia, ho 24 anni e sono una studente universitaria.**</font></code><br>\n",
    "Utilizza le parole chiave per stampare l'output."
   ]
  },
  {
   "cell_type": "code",
   "execution_count": 3,
   "metadata": {},
   "outputs": [
    {
     "name": "stdout",
     "output_type": "stream",
     "text": [
      "Il mio nome è Olivia, ho 24 anni e sono una studente universitaria.\n"
     ]
    }
   ],
   "source": [
    "print('Il mio nome è {nome}, ho {eta} anni e sono una {professione} universitaria.'.format(professione='studente',nome='Olivia',eta='24'))"
   ]
  },
  {
   "cell_type": "markdown",
   "metadata": {},
   "source": [
    "<b>Esercizio 4</b>"
   ]
  },
  {
   "cell_type": "code",
   "execution_count": 4,
   "metadata": {},
   "outputs": [],
   "source": [
    "nome = 'Giovanni'\n",
    "cognome = 'Bianchi'"
   ]
  },
  {
   "cell_type": "markdown",
   "metadata": {},
   "source": [
    "Ottieni questo output utilizzando le variabili sopra indicate e il format in forma abbreviata.<br>\n",
    "Output desiderato:<br>\n",
    "<code><font color=green>**Il mio nome è Giovanni e il mio cognome è Bianchi.**</font></code><br>"
   ]
  },
  {
   "cell_type": "code",
   "execution_count": 5,
   "metadata": {},
   "outputs": [
    {
     "name": "stdout",
     "output_type": "stream",
     "text": [
      "Il mio nome è Giovanni e il mio cognome è Bianchi.\n"
     ]
    }
   ],
   "source": [
    "print(f'Il mio nome è {nome} e il mio cognome è {cognome}.')"
   ]
  },
  {
   "cell_type": "markdown",
   "metadata": {},
   "source": [
    "<b>Esercizio 5</b>"
   ]
  },
  {
   "cell_type": "markdown",
   "metadata": {},
   "source": [
    "Stampa esattamente questo risultato:<br>\n",
    "Output desiderato:<br>\n",
    "<code><font color=green>**Il sole \\t e la luna.**</font></code><br>"
   ]
  },
  {
   "cell_type": "code",
   "execution_count": 6,
   "metadata": {},
   "outputs": [
    {
     "name": "stdout",
     "output_type": "stream",
     "text": [
      "Il sole \\t e la luna.\n"
     ]
    }
   ],
   "source": [
    "print(r'Il sole \\t e la luna.')"
   ]
  },
  {
   "cell_type": "markdown",
   "metadata": {},
   "source": [
    "<b>Esercizio 6</b>"
   ]
  },
  {
   "cell_type": "markdown",
   "metadata": {},
   "source": [
    "Stampa il numero <code>10.57523</code>, utilizza il format. <br>\n",
    "Output desiderato:<br>\n",
    "<code><font color=green>**Il numero è 10.57523**</font></code><br>"
   ]
  },
  {
   "cell_type": "code",
   "execution_count": 7,
   "metadata": {},
   "outputs": [
    {
     "name": "stdout",
     "output_type": "stream",
     "text": [
      "Il numero è 10.57523\n"
     ]
    }
   ],
   "source": [
    "print('Il numero è {}'.format(10.57523))"
   ]
  },
  {
   "cell_type": "markdown",
   "metadata": {},
   "source": [
    "<b>Esercizio 7</b>"
   ]
  },
  {
   "cell_type": "markdown",
   "metadata": {},
   "source": [
    "Stampa il numero <code>10.57523</code> arrotondato a due decimali, utilizza il format. <br>\n",
    "Output desiderato:<br>\n",
    "<code><font color=green>**Il numero è 10.58**</font></code><br>"
   ]
  },
  {
   "cell_type": "code",
   "execution_count": 8,
   "metadata": {},
   "outputs": [
    {
     "name": "stdout",
     "output_type": "stream",
     "text": [
      "Il numero è 10.58\n"
     ]
    }
   ],
   "source": [
    "print('Il numero è {valore:1.2f}'.format(valore=10.57523))"
   ]
  },
  {
   "cell_type": "code",
   "execution_count": null,
   "metadata": {},
   "outputs": [],
   "source": []
  }
 ],
 "metadata": {
  "kernelspec": {
   "display_name": "Python 3",
   "language": "python",
   "name": "python3"
  },
  "language_info": {
   "codemirror_mode": {
    "name": "ipython",
    "version": 3
   },
   "file_extension": ".py",
   "mimetype": "text/x-python",
   "name": "python",
   "nbconvert_exporter": "python",
   "pygments_lexer": "ipython3",
   "version": "3.7.1"
  }
 },
 "nbformat": 4,
 "nbformat_minor": 2
}
