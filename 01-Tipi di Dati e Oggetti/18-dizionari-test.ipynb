{
 "cells": [
  {
   "cell_type": "markdown",
   "metadata": {},
   "source": [
    "## Esercizi - Dizionari"
   ]
  },
  {
   "cell_type": "markdown",
   "metadata": {},
   "source": [
    "<b>Esercizio 1</b>"
   ]
  },
  {
   "cell_type": "markdown",
   "metadata": {},
   "source": [
    "<code>'I dizionari memorizzano i dati utilizzando un indice.'<br></code>\n",
    "Output desiderato:<br>\n",
    "Scrivi <code><font color=green>**True**</font></code> se pensi che l'affermazione sia corretta, altrimenti scrivi <code><font color=red>**False**</font></code>."
   ]
  },
  {
   "cell_type": "code",
   "execution_count": null,
   "metadata": {},
   "outputs": [],
   "source": []
  },
  {
   "cell_type": "markdown",
   "metadata": {},
   "source": [
    "<b>Esercizio 2</b>"
   ]
  },
  {
   "cell_type": "markdown",
   "metadata": {},
   "source": [
    "<code>'Ogni dizionario si dichiara utilizzando le graffe {}.'<br></code>\n",
    "Output desiderato:<br>\n",
    "Scrivi <code><font color=green>**True**</font></code> se pensi che l'affermazione sia corretta, altrimenti scrivi <code><font color=red>**False**</font></code>."
   ]
  },
  {
   "cell_type": "code",
   "execution_count": null,
   "metadata": {},
   "outputs": [],
   "source": []
  },
  {
   "cell_type": "markdown",
   "metadata": {},
   "source": [
    "<b>Esercizio 3</b>"
   ]
  },
  {
   "cell_type": "markdown",
   "metadata": {},
   "source": [
    "Questa dichiarazione di dizionario è corretta?<br>\n",
    "<code>dizionario = {'chiave1':'valore1';'chiave2':'valore2'}<br></code>\n",
    "Output desiderato:<br>\n",
    "Scrivi <code><font color=green>**True**</font></code> se pensi che l'affermazione sia corretta, altrimenti scrivi <code><font color=red>**False**</font></code>."
   ]
  },
  {
   "cell_type": "code",
   "execution_count": null,
   "metadata": {},
   "outputs": [],
   "source": []
  },
  {
   "cell_type": "markdown",
   "metadata": {},
   "source": [
    "<b>Esercizio 4</b>"
   ]
  },
  {
   "cell_type": "markdown",
   "metadata": {},
   "source": [
    "Crea un dizionario, assegnalo alla variabile <code>dizionario</code> e mostrane il contenuto.<br>\n",
    "Output desiderato:<br>\n",
    "<code><font color=green>**{'mele': 1.2, 'banane': 1, 'arance': 1.5}**</font></code><br>"
   ]
  },
  {
   "cell_type": "code",
   "execution_count": null,
   "metadata": {},
   "outputs": [],
   "source": []
  },
  {
   "cell_type": "markdown",
   "metadata": {},
   "source": [
    "<b>Esercizio 5</b>"
   ]
  },
  {
   "cell_type": "markdown",
   "metadata": {},
   "source": [
    "Mostra il contenuto del dizionario con chiave <code>'mele'</code>.<br>\n",
    "Output desiderato:<br>\n",
    "<code><font color=green>**1.2**</font></code><br>"
   ]
  },
  {
   "cell_type": "code",
   "execution_count": null,
   "metadata": {},
   "outputs": [],
   "source": []
  },
  {
   "cell_type": "markdown",
   "metadata": {},
   "source": [
    "<b>Esercizio 6</b>"
   ]
  },
  {
   "cell_type": "markdown",
   "metadata": {},
   "source": [
    "Mostra il contenuto del dizionario con chiave <code>'arance'</code>.<br>\n",
    "Utilizza il metodo <code>get</code>.<br>\n",
    "Output desiderato:<br>\n",
    "<code><font color=green>**1.5**</font></code><br>"
   ]
  },
  {
   "cell_type": "code",
   "execution_count": null,
   "metadata": {},
   "outputs": [],
   "source": []
  },
  {
   "cell_type": "markdown",
   "metadata": {},
   "source": [
    "<b>Esercizio 7</b>"
   ]
  },
  {
   "cell_type": "markdown",
   "metadata": {},
   "source": [
    "Crea un dizionario, assegnalo alla variabile <code>dizionario</code> e mostrane il contenuto.<br>\n",
    "Output desiderato:<br>\n",
    "<code><font color=green>**{'a': [15, 30, 45], 'b': 'Cane', 'c': {'k1': 'M1', 'k2': 'M2'}}**</font></code><br>"
   ]
  },
  {
   "cell_type": "code",
   "execution_count": null,
   "metadata": {},
   "outputs": [],
   "source": []
  },
  {
   "cell_type": "markdown",
   "metadata": {},
   "source": [
    "<b>Esercizio 8</b>"
   ]
  },
  {
   "cell_type": "markdown",
   "metadata": {},
   "source": [
    "Mostra il dizionario interno presente nella variabile <code>dizionario</code>.<br>\n",
    "Output desiderato:<br>\n",
    "<code><font color=green>**{'k1': 'M1', 'k2': 'M2'}**</font></code><br>"
   ]
  },
  {
   "cell_type": "code",
   "execution_count": null,
   "metadata": {},
   "outputs": [],
   "source": []
  },
  {
   "cell_type": "markdown",
   "metadata": {},
   "source": [
    "<b>Esercizio 9</b>"
   ]
  },
  {
   "cell_type": "markdown",
   "metadata": {},
   "source": [
    "Mostra il secondo elemento della lista presente nella variabile <code>dizionario</code>.<br>\n",
    "Output desiderato:<br>\n",
    "<code><font color=green>**30**</font></code><br>"
   ]
  },
  {
   "cell_type": "code",
   "execution_count": null,
   "metadata": {},
   "outputs": [],
   "source": []
  },
  {
   "cell_type": "markdown",
   "metadata": {},
   "source": [
    "<b>Esercizio 10</b>"
   ]
  },
  {
   "cell_type": "markdown",
   "metadata": {},
   "source": [
    "Mostra il valore dell'elemento del dizionario interno con chiave <code>'k2'</code> presente nella variabile <code>dizionario</code>.<br>\n",
    "Output desiderato:<br>\n",
    "<code><font color=green>**'M2'**</font></code><br>"
   ]
  },
  {
   "cell_type": "code",
   "execution_count": null,
   "metadata": {},
   "outputs": [],
   "source": []
  },
  {
   "cell_type": "markdown",
   "metadata": {},
   "source": [
    "<b>Esercizio 11</b>"
   ]
  },
  {
   "cell_type": "code",
   "execution_count": 1,
   "metadata": {},
   "outputs": [],
   "source": [
    "diz2 = {'k1':1,'k2':2,'k3':3}"
   ]
  },
  {
   "cell_type": "markdown",
   "metadata": {},
   "source": [
    "Aggiungi al dizionario <code>diz2</code> la chiave <code>'k4'</code> con il valore <code>4</code>.<br>\n",
    "Mostra poi il contenuto di <code>diz2</code>.<br>\n",
    "Output desiderato:<br>\n",
    "<code><font color=green>**{'k1': 1, 'k2': 2, 'k3': 3, 'k4': 4}**</font></code><br>"
   ]
  },
  {
   "cell_type": "code",
   "execution_count": null,
   "metadata": {},
   "outputs": [],
   "source": []
  },
  {
   "cell_type": "markdown",
   "metadata": {},
   "source": [
    "<b>Esercizio 12</b>"
   ]
  },
  {
   "cell_type": "markdown",
   "metadata": {},
   "source": [
    "Utilizzando il metodo corretto, mostra tutti i valori presenti nel dizionario <code>diz2</code>.<br>\n",
    "Output desiderato:<br>\n",
    "<code><font color=green>**dict_values([1, 2, 3, 4])**</font></code><br>"
   ]
  },
  {
   "cell_type": "code",
   "execution_count": null,
   "metadata": {},
   "outputs": [],
   "source": []
  },
  {
   "cell_type": "markdown",
   "metadata": {},
   "source": [
    "<b>Esercizio 13</b>"
   ]
  },
  {
   "cell_type": "markdown",
   "metadata": {},
   "source": [
    "Utilizzando il metodo corretto, mostra tutte le chiavi presenti nel dizionario <code>diz2</code>.<br>\n",
    "Output desiderato:<br>\n",
    "<code><font color=green>**dict_keys(['k1', 'k2', 'k3', 'k4'])**</font></code><br>"
   ]
  },
  {
   "cell_type": "code",
   "execution_count": null,
   "metadata": {},
   "outputs": [],
   "source": []
  },
  {
   "cell_type": "markdown",
   "metadata": {},
   "source": [
    "<b>Esercizio 14</b>"
   ]
  },
  {
   "cell_type": "markdown",
   "metadata": {},
   "source": [
    "Utilizzando il metodo corretto, rimuovi l'ultimo elemento inserito nel dizionario <code>diz2</code>.<br>\n",
    "Mostra poi il contenuto di <code>diz2</code>.<br>\n",
    "Output desiderato:<br>\n",
    "<code><font color=green>**{'k1': 1, 'k2': 2, 'k3': 3}**</font></code><br>"
   ]
  },
  {
   "cell_type": "code",
   "execution_count": null,
   "metadata": {},
   "outputs": [],
   "source": []
  },
  {
   "cell_type": "markdown",
   "metadata": {},
   "source": [
    "<b>Esercizio 15</b>"
   ]
  },
  {
   "cell_type": "markdown",
   "metadata": {},
   "source": [
    "Utilizzando il metodo corretto, rimuovi l'elemento con chiave <code>'k1'</code> nel dizionario <code>diz2</code>.<br>\n",
    "Mostra poi il contenuto di <code>diz2</code>.<br>\n",
    "Output desiderato:<br>\n",
    "<code><font color=green>**{'k2': 2, 'k3': 3}**</font></code><br>"
   ]
  },
  {
   "cell_type": "code",
   "execution_count": null,
   "metadata": {},
   "outputs": [],
   "source": []
  },
  {
   "cell_type": "markdown",
   "metadata": {},
   "source": [
    "<b>Esercizio 16</b>"
   ]
  },
  {
   "cell_type": "markdown",
   "metadata": {},
   "source": [
    "Utilizzando il metodo corretto, rimuovi tutti gli elementi dal dizionario <code>diz2</code>.<br>\n",
    "Mostra poi il contenuto di <code>diz2</code>.<br>\n",
    "Output desiderato:<br>\n",
    "<code><font color=green>**{}**</font></code><br>"
   ]
  },
  {
   "cell_type": "code",
   "execution_count": null,
   "metadata": {},
   "outputs": [],
   "source": []
  }
 ],
 "metadata": {
  "kernelspec": {
   "display_name": "Python 3",
   "language": "python",
   "name": "python3"
  },
  "language_info": {
   "codemirror_mode": {
    "name": "ipython",
    "version": 3
   },
   "file_extension": ".py",
   "mimetype": "text/x-python",
   "name": "python",
   "nbconvert_exporter": "python",
   "pygments_lexer": "ipython3",
   "version": "3.7.1"
  }
 },
 "nbformat": 4,
 "nbformat_minor": 2
}
