{
 "cells": [
  {
   "cell_type": "markdown",
   "metadata": {},
   "source": [
    "## Esercizi - Espressioni Lambda, Mappe e Filtri"
   ]
  },
  {
   "cell_type": "markdown",
   "metadata": {},
   "source": [
    "<b>Esercizio 1</b>"
   ]
  },
  {
   "cell_type": "code",
   "execution_count": null,
   "metadata": {},
   "outputs": [],
   "source": [
    "lista1 = [5,6,7,8]"
   ]
  },
  {
   "cell_type": "markdown",
   "metadata": {},
   "source": [
    "Crea una funzione chiamata <code>cubo</code> che riceve il parametro <code>num</code>.<br>\n",
    "Restituisci il valore di <code>num</code> al cubo.<br>\n",
    "Utilizzando la funzione <code>map</code> esegui la funzione <code>cubo</code> su tutti gli elementi di <code>lista1</code>, infine ottieni il risultato sotto forma di lista.<br>\n",
    "Output desiderato:<br>\n",
    "<code><font color=green><b>[125, 216, 343, 512]</b></font></code><br>"
   ]
  },
  {
   "cell_type": "code",
   "execution_count": null,
   "metadata": {},
   "outputs": [],
   "source": []
  },
  {
   "cell_type": "markdown",
   "metadata": {},
   "source": [
    "<b>Esercizio 2</b>"
   ]
  },
  {
   "cell_type": "code",
   "execution_count": null,
   "metadata": {},
   "outputs": [],
   "source": [
    "lista2 = ['a','b','c','aa','d','bb','ee','f','g','h','iii','z']"
   ]
  },
  {
   "cell_type": "markdown",
   "metadata": {},
   "source": [
    "Crea una funzione chiamata <code>carattere_singolo</code> che riceve il parametro <code>mia_lista</code>.<br>\n",
    "Restituisci la lista escludendo gli elementi che hanno più di un carattere.<br>\n",
    "Utilizzando la funzione <code>filter</code> esegui la funzione <code>carattere_singolo</code> su tutti gli elementi di <code>lista2</code>, infine ottieni il risultato sotto forma di lista.<br>\n",
    "Output desiderato:<br>\n",
    "<code><font color=green><b>['a', 'b', 'c', 'd', 'f', 'g', 'h', 'z']</b></font></code><br>"
   ]
  },
  {
   "cell_type": "code",
   "execution_count": null,
   "metadata": {},
   "outputs": [],
   "source": []
  },
  {
   "cell_type": "markdown",
   "metadata": {},
   "source": [
    "<b>Esercizio 3</b>"
   ]
  },
  {
   "cell_type": "markdown",
   "metadata": {},
   "source": [
    "Esegui nuovamente l'esercizio 1, questa volta converti la funzione <code>cubo</code> in una funzione anonima <code>lambda</code>.<br>\n",
    "Output desiderato:<br>\n",
    "<code><font color=green><b>[125, 216, 343, 512]</b></font></code><br>"
   ]
  },
  {
   "cell_type": "code",
   "execution_count": null,
   "metadata": {},
   "outputs": [],
   "source": []
  },
  {
   "cell_type": "markdown",
   "metadata": {},
   "source": [
    "<b>Esercizio 4</b>"
   ]
  },
  {
   "cell_type": "markdown",
   "metadata": {},
   "source": [
    "Esegui nuovamente l'esercizio 2, questa volta converti la funzione <code>carattere_singolo</code> in una funzione anonima <code>lambda</code>.<br>\n",
    "Output desiderato:<br>\n",
    "<code><font color=green><b>['a', 'b', 'c', 'd', 'f', 'g', 'h', 'z']</b></font></code><br>"
   ]
  },
  {
   "cell_type": "code",
   "execution_count": null,
   "metadata": {},
   "outputs": [],
   "source": []
  }
 ],
 "metadata": {
  "kernelspec": {
   "display_name": "Python 3",
   "language": "python",
   "name": "python3"
  },
  "language_info": {
   "codemirror_mode": {
    "name": "ipython",
    "version": 3
   },
   "file_extension": ".py",
   "mimetype": "text/x-python",
   "name": "python",
   "nbconvert_exporter": "python",
   "pygments_lexer": "ipython3",
   "version": "3.7.1"
  }
 },
 "nbformat": 4,
 "nbformat_minor": 2
}
