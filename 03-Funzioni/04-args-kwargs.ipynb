{
 "cells": [
  {
   "cell_type": "code",
   "execution_count": 59,
   "metadata": {},
   "outputs": [],
   "source": [
    "def somma_totale(num1,num2,num3):\n",
    "    return sum((num1,num2,num3))"
   ]
  },
  {
   "cell_type": "code",
   "execution_count": 60,
   "metadata": {},
   "outputs": [
    {
     "data": {
      "text/plain": [
       "20"
      ]
     },
     "execution_count": 60,
     "metadata": {},
     "output_type": "execute_result"
    }
   ],
   "source": [
    "somma_totale(10,4,6)"
   ]
  },
  {
   "cell_type": "code",
   "execution_count": 61,
   "metadata": {},
   "outputs": [],
   "source": [
    "def somma_totale(num1,num2,num3,num4,num5,num6):\n",
    "    return sum((num1,num2,num3,num4,num5,num6))"
   ]
  },
  {
   "cell_type": "code",
   "execution_count": 62,
   "metadata": {},
   "outputs": [
    {
     "data": {
      "text/plain": [
       "35"
      ]
     },
     "execution_count": 62,
     "metadata": {},
     "output_type": "execute_result"
    }
   ],
   "source": [
    "somma_totale(10,4,6,1,6,8)"
   ]
  },
  {
   "cell_type": "code",
   "execution_count": 67,
   "metadata": {},
   "outputs": [],
   "source": [
    "def somma_totale(*elementi):\n",
    "    return sum(elementi)"
   ]
  },
  {
   "cell_type": "code",
   "execution_count": 68,
   "metadata": {},
   "outputs": [
    {
     "data": {
      "text/plain": [
       "35"
      ]
     },
     "execution_count": 68,
     "metadata": {},
     "output_type": "execute_result"
    }
   ],
   "source": [
    "somma_totale(10,4,6,1,6,8)"
   ]
  },
  {
   "cell_type": "code",
   "execution_count": 72,
   "metadata": {},
   "outputs": [],
   "source": [
    "def cibo_preferito(**chiavi):\n",
    "    if ('cibo' in chiavi):\n",
    "        print('La {nome} è il mio cibo preferito'.format(nome=chiavi['cibo']))\n",
    "    else:\n",
    "        print('Non è stato indicato alcun cibo preferito.')"
   ]
  },
  {
   "cell_type": "code",
   "execution_count": 73,
   "metadata": {},
   "outputs": [
    {
     "name": "stdout",
     "output_type": "stream",
     "text": [
      "La pizza è il mio cibo preferito\n"
     ]
    }
   ],
   "source": [
    "cibo_preferito(cibo='pizza')"
   ]
  },
  {
   "cell_type": "code",
   "execution_count": 74,
   "metadata": {},
   "outputs": [
    {
     "name": "stdout",
     "output_type": "stream",
     "text": [
      "Non è stato indicato alcun cibo preferito.\n"
     ]
    }
   ],
   "source": [
    "cibo_preferito(nome='pizza')"
   ]
  },
  {
   "cell_type": "code",
   "execution_count": 75,
   "metadata": {},
   "outputs": [],
   "source": [
    "def ordinazione(*args,**kwargs):\n",
    "    if (('cibo' in kwargs) and ('bevanda' in kwargs)):\n",
    "        print('Vorrei ordinare {0} {1} e {2} {3}'.format(args[0],kwargs['cibo'],args[1],kwargs['bevanda']))\n",
    "    else:\n",
    "        print('Non ho ancora deciso cosa ordinare.')"
   ]
  },
  {
   "cell_type": "code",
   "execution_count": 76,
   "metadata": {},
   "outputs": [
    {
     "name": "stdout",
     "output_type": "stream",
     "text": [
      "Vorrei ordinare 2 pizze e 1 acqua naturale\n"
     ]
    }
   ],
   "source": [
    "ordinazione(2,1,cibo='pizze',bevanda='acqua naturale')"
   ]
  },
  {
   "cell_type": "code",
   "execution_count": 77,
   "metadata": {},
   "outputs": [
    {
     "ename": "SyntaxError",
     "evalue": "positional argument follows keyword argument (<ipython-input-77-f2672d8e114e>, line 1)",
     "output_type": "error",
     "traceback": [
      "\u001b[0;36m  File \u001b[0;32m\"<ipython-input-77-f2672d8e114e>\"\u001b[0;36m, line \u001b[0;32m1\u001b[0m\n\u001b[0;31m    ordinazione(cibo='pizze',bevanda='acqua naturale',2,1)\u001b[0m\n\u001b[0m                                                     ^\u001b[0m\n\u001b[0;31mSyntaxError\u001b[0m\u001b[0;31m:\u001b[0m positional argument follows keyword argument\n"
     ]
    }
   ],
   "source": [
    "ordinazione(cibo='pizze',bevanda='acqua naturale',2,1)"
   ]
  },
  {
   "cell_type": "code",
   "execution_count": 78,
   "metadata": {},
   "outputs": [
    {
     "name": "stdout",
     "output_type": "stream",
     "text": [
      "Vorrei ordinare 2 pizze e 1 acqua naturale\n"
     ]
    }
   ],
   "source": [
    "ordinazione(2,1,cibo='pizze',bevanda='acqua naturale')"
   ]
  },
  {
   "cell_type": "code",
   "execution_count": null,
   "metadata": {},
   "outputs": [],
   "source": []
  }
 ],
 "metadata": {
  "kernelspec": {
   "display_name": "Python 3",
   "language": "python",
   "name": "python3"
  },
  "language_info": {
   "codemirror_mode": {
    "name": "ipython",
    "version": 3
   },
   "file_extension": ".py",
   "mimetype": "text/x-python",
   "name": "python",
   "nbconvert_exporter": "python",
   "pygments_lexer": "ipython3",
   "version": "3.7.1"
  }
 },
 "nbformat": 4,
 "nbformat_minor": 2
}
