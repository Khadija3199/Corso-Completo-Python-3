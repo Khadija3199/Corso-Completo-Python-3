{
 "cells": [
  {
   "cell_type": "markdown",
   "metadata": {},
   "source": [
    "## Esercizio - Funzioni"
   ]
  },
  {
   "cell_type": "markdown",
   "metadata": {},
   "source": [
    "<b>Esercizio 1</b>"
   ]
  },
  {
   "cell_type": "markdown",
   "metadata": {},
   "source": [
    "Crea una funzione chiamata <code>divisione</code> che stampa la divisione tra due numeri.<br>\n",
    "Richiama la funzione <code>divisione</code> con i numeri <code>50</code> e <code>5</code>.<br>\n",
    "Output desiderato:<br>\n",
    "<code><font color=green><b>10.0</b></font></code><br>"
   ]
  },
  {
   "cell_type": "code",
   "execution_count": null,
   "metadata": {},
   "outputs": [],
   "source": []
  },
  {
   "cell_type": "markdown",
   "metadata": {},
   "source": [
    "<b>Esercizio 2</b>"
   ]
  },
  {
   "cell_type": "markdown",
   "metadata": {},
   "source": [
    "Crea una funzione chiamata <code>saluto</code> che stampa <code>Buon giorno </code> seguito dal parametro <code>nome</code>.<br>\n",
    "Richiama la funzione <code>saluto</code> con il nome <code>Roberto</code>.<br>\n",
    "Output desiderato:<br>\n",
    "<code><font color=green><b>Buon giorno Roberto</b></font></code><br>"
   ]
  },
  {
   "cell_type": "code",
   "execution_count": null,
   "metadata": {},
   "outputs": [],
   "source": []
  },
  {
   "cell_type": "markdown",
   "metadata": {},
   "source": [
    "<b>Esercizio 3</b>"
   ]
  },
  {
   "cell_type": "markdown",
   "metadata": {},
   "source": [
    "Crea una funzione chiamata <code>fun1</code> che riceve due numeri come parametri e che ritorna il minimo tra i due numeri se entrambi i numeri sono pari, altrimenti, se uno o entrambi i numeri sono dispari, ritorna il numero maggiore tra i due.<br>\n",
    "Stampa la chiamata alla funzione <code>fun1</code> con i numeri <code>2</code> e <code>4</code>.<br>\n",
    "Stampa la chiamata alla funzione <code>fun1</code> con i numeri <code>2</code> e <code>5</code>.<br>\n",
    "Output desiderato:<br>\n",
    "<code><font color=green><b>2</b></font></code><br>\n",
    "<code><font color=green><b>5</b></font></code><br>"
   ]
  },
  {
   "cell_type": "code",
   "execution_count": null,
   "metadata": {},
   "outputs": [],
   "source": []
  },
  {
   "cell_type": "markdown",
   "metadata": {},
   "source": [
    "<b>Esercizio 4</b>"
   ]
  },
  {
   "cell_type": "markdown",
   "metadata": {},
   "source": [
    "Crea una funzione chiamata <code>fun2</code> che riceve un parametro chiamato <code>nome</code> costituito dal nome e dal cognome dell'utente separati da uno spazio bianco.<br>\n",
    "Ritorna il valore <code><font color=green><b>True</b></font></code> se sia il nome che il cognome cominciano con la stessa lettera, altrimenti ritorna <code><font color=red><b>False</b></font></code>.<br>\n",
    "Stampa la chiamata alla funzione <code>fun2</code> con il valore <code>'Giovanni Greco'</code>.<br>\n",
    "Stampa la chiamata alla funzione <code>fun2</code> con il valore <code>'Matteo Rossi'</code>.<br>\n",
    "Output desiderato:<br>\n",
    "<code><font color=green><b>True</b></font></code><br>\n",
    "<code><font color=red><b>False</b></font></code><br>"
   ]
  },
  {
   "cell_type": "code",
   "execution_count": null,
   "metadata": {},
   "outputs": [],
   "source": []
  },
  {
   "cell_type": "markdown",
   "metadata": {},
   "source": [
    "<b>Esercizio 5</b>"
   ]
  },
  {
   "cell_type": "markdown",
   "metadata": {},
   "source": [
    "Crea una funzione chiamata <code>fun3</code> che riceve due numeri interi come parametri.<br>\n",
    "Ritorna il valore <code><font color=green><b>True</b></font></code> se la somma dei numeri è uguale a 20 o se almeno uno dei numeri è uguale a 20, altrimenti ritorna <code><font color=red><b>False</b></font></code>.<br>\n",
    "Stampa la chiamata alla funzione <code>fun3</code> con il valore <code>20</code> e <code>6</code>.<br>\n",
    "Stampa la chiamata alla funzione <code>fun3</code> con il valore <code>15</code> e <code>5</code>.<br>\n",
    "Stampa la chiamata alla funzione <code>fun3</code> con il valore <code>17</code> e <code>1</code>.<br>\n",
    "Output desiderato:<br>\n",
    "<code><font color=green><b>True</b></font></code><br>\n",
    "<code><font color=green><b>True</b></font></code><br>\n",
    "<code><font color=red><b>False</b></font></code><br>"
   ]
  },
  {
   "cell_type": "code",
   "execution_count": null,
   "metadata": {},
   "outputs": [],
   "source": []
  },
  {
   "cell_type": "markdown",
   "metadata": {},
   "source": [
    "<b>Esercizio 6</b>"
   ]
  },
  {
   "cell_type": "markdown",
   "metadata": {},
   "source": [
    "Crea una funzione chiamata <code>fun4</code> che riceve un parametro chiamato <code>nome</code>.<br>\n",
    "Ritorna <code>nome</code> con entrambe le parole in maiuscolo.<br>\n",
    "Stampa la chiamata alla funzione <code>fun4</code> con il valore <code>sig.rossi</code>.<br>\n",
    "Stampa la chiamata alla funzione <code>fun4</code> con il valore <code>sig.monti</code>.<br>\n",
    "Output desiderato:<br>\n",
    "<code><font color=green><b>Sig.Rossi</b></font></code><br>\n",
    "<code><font color=green><b>Sig.Monti</b></font></code>"
   ]
  },
  {
   "cell_type": "code",
   "execution_count": null,
   "metadata": {},
   "outputs": [],
   "source": []
  },
  {
   "cell_type": "markdown",
   "metadata": {},
   "source": [
    "<b>Esercizio 7</b>"
   ]
  },
  {
   "cell_type": "markdown",
   "metadata": {},
   "source": [
    "Crea una funzione chiamata <code>fun5</code> che riceve un parametro chiamato <code>numeri</code>.<br>\n",
    "Ritorna il valore <code><font color=green><b>True</b></font></code> se la lista contiene il numero <code>2</code> vicino ad un altro <code>2</code>, altrimenti ritorna <code><font color=red><b>False</b></font></code>.<br>\n",
    "Stampa la chiamata alla funzione <code>fun5</code> con il valore <code>[1,2,2]</code>.<br>\n",
    "Stampa la chiamata alla funzione <code>fun5</code> con il valore <code>[1,2,3]</code>.<br>\n",
    "Output desiderato:<br>\n",
    "<code><font color=green><b>True</b></font></code><br>\n",
    "<code><font color=red><b>False</b></font></code>"
   ]
  },
  {
   "cell_type": "code",
   "execution_count": null,
   "metadata": {},
   "outputs": [],
   "source": []
  },
  {
   "cell_type": "markdown",
   "metadata": {},
   "source": [
    "<b>Esercizio 8</b>"
   ]
  },
  {
   "cell_type": "markdown",
   "metadata": {},
   "source": [
    "Crea una funzione chiamata <code>fun6</code> che riceve un parametro stringa chiamato <code>nome</code>.<br>\n",
    "Data la stringa, ritorna una nuova stringa dove, per ogni carattere della stringa originale, ci sono tre caratteri.<br>\n",
    "Stampa la chiamata alla funzione <code>fun6</code> con il valore <code>Ciao</code>.<br>\n",
    "Stampa la chiamata alla funzione <code>fun6</code> con il valore <code>Rossi</code>.<br>\n",
    "Output desiderato:<br>\n",
    "<code><font color=green><b>CCCiiiaaaooo</b></font></code><br>\n",
    "<code><font color=green><b>RRRooossssssiii</b></font></code>"
   ]
  },
  {
   "cell_type": "code",
   "execution_count": null,
   "metadata": {},
   "outputs": [],
   "source": []
  },
  {
   "cell_type": "markdown",
   "metadata": {},
   "source": [
    "<b>Esercizio 9</b>"
   ]
  },
  {
   "cell_type": "markdown",
   "metadata": {},
   "source": [
    "Crea una funzione chiamata <code>fun7</code> che riceve tre numeri da 1 a 11 nei parametri <code>a</code>, <code>b</code> e<code>c</code>.<br>\n",
    "Se la somma dei numeri è minore o uguale a <code>21</code>, ritorna la somma dei numeri.<br>\n",
    "Se la somma dei numeri supera il numero <code>21</code>, è minore o uguale al numero <code>31</code> ed uno dei numeri è uguale a <code>11</code> ritorna la somma dei numeri ridotta di <code>10</code>.<br>\n",
    "Infine, se nessuna di queste condizioni si verifica ritorna la stringa <code>'HAI PERSO'</code>.<br>\n",
    "Stampa la chiamata alla funzione <code>fun7</code> con i valori <code>5</code>,<code>6</code> e<code>7</code>.<br>\n",
    "Stampa la chiamata alla funzione <code>fun7</code> con i valori <code>9</code>,<code>9</code> e<code>11</code>.<br>\n",
    "Stampa la chiamata alla funzione <code>fun7</code> con i valori <code>9</code>,<code>9</code> e<code>9</code>.<br>\n",
    "Output desiderato:<br>\n",
    "<code><font color=green><b>18</b></font></code><br>\n",
    "<code><font color=green><b>19</b></font></code><br>\n",
    "<code><font color=green><b>HAI PERSO</b></font></code>"
   ]
  },
  {
   "cell_type": "code",
   "execution_count": null,
   "metadata": {},
   "outputs": [],
   "source": []
  },
  {
   "cell_type": "markdown",
   "metadata": {},
   "source": [
    "<b>Esercizio 10</b>"
   ]
  },
  {
   "cell_type": "markdown",
   "metadata": {},
   "source": [
    "Crea una funzione chiamata <code>fun8</code> che riceve una lista di numeri nel parametro <code>numeri</code>.<br>\n",
    "Ritorna il valore <code><font color=green><b>True</b></font></code> se la lista contiene i numeri <code>0</code>,<code>0</code> e <code>7</code> in questo ordine, altrimenti ritorna <code><font color=red><b>False</b></font></code>.<br>\n",
    "Stampa la chiamata alla funzione <code>fun8</code> con la lista di numeri <code>[1,2,3,0,0,7,5]</code>.<br>\n",
    "Stampa la chiamata alla funzione <code>fun8</code> con la lista di numeri <code>[1,0,6,2,0,5,7]</code>.<br>\n",
    "Stampa la chiamata alla funzione <code>fun8</code> con la lista di numeri <code>[7,1,2,0,4,5,0]</code>.<br>\n",
    "Output desiderato:<br>\n",
    "<code><font color=green><b>True</b></font></code><br>\n",
    "<code><font color=green><b>True</b></font></code><br>\n",
    "<code><font color=green><b>False</b></font></code>"
   ]
  },
  {
   "cell_type": "code",
   "execution_count": null,
   "metadata": {},
   "outputs": [],
   "source": []
  },
  {
   "cell_type": "markdown",
   "metadata": {},
   "source": [
    "<b>Esercizio 11</b>"
   ]
  },
  {
   "cell_type": "markdown",
   "metadata": {},
   "source": [
    "Crea una funzione chiamata <code>fun9</code> che riceve tre parametri <code>numero</code>, <code>minimo</code> e <code>massimo</code>.<br>\n",
    "Se <code>numero</code> è compreso tra <code>minimo</code> e <code>massimo</code> inclusi, stampa la frase che vedi nell'output desiderato, altrimenti stampa la frase <code>'Il numero non fa parte del range.'</code>.<br>\n",
    "Richiama la funzione <code>fun9</code> con i numeri <code>10</code>,<code>1</code> e <code>10</code>.<br>\n",
    "Richiama la funzione <code>fun9</code> con i numeri <code>14</code>,<code>1</code> e <code>10</code>.<br>\n",
    "Output desiderato:<br>\n",
    "<code><font color=green><b>Il numero 10 è incluso nel range 1 e 10.</b></font></code><br>\n",
    "<code><font color=green><b>Il numero non fa parte del range.</b></font></code>"
   ]
  },
  {
   "cell_type": "code",
   "execution_count": null,
   "metadata": {},
   "outputs": [],
   "source": []
  }
 ],
 "metadata": {
  "kernelspec": {
   "display_name": "Python 3",
   "language": "python",
   "name": "python3"
  },
  "language_info": {
   "codemirror_mode": {
    "name": "ipython",
    "version": 3
   },
   "file_extension": ".py",
   "mimetype": "text/x-python",
   "name": "python",
   "nbconvert_exporter": "python",
   "pygments_lexer": "ipython3",
   "version": "3.7.1"
  }
 },
 "nbformat": 4,
 "nbformat_minor": 2
}
