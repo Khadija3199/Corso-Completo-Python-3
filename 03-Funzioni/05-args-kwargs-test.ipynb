{
 "cells": [
  {
   "cell_type": "markdown",
   "metadata": {},
   "source": [
    "## Esercizi - \\*args e \\**kwargs"
   ]
  },
  {
   "cell_type": "markdown",
   "metadata": {},
   "source": [
    "<b>Esercizio 1</b>"
   ]
  },
  {
   "cell_type": "markdown",
   "metadata": {},
   "source": [
    "Crea una funzione chiamata <code>moltiplicazione</code> con il parametro <code>*args</code>che moltiplica tutti i numeri e stampa il prodotto totale.<br>\n",
    "Richiama la funzione <code>moltiplicazione</code> con i numeri <code>20</code> e <code>2</code>.<br>\n",
    "Richiama la funzione <code>moltiplicazione</code> con i numeri <code>15</code>, <code>5</code>, <code>7</code>, <code>1</code> e <code>4</code>.<br>\n",
    "Richiama la funzione <code>moltiplicazione</code> con i numeri <code>100</code>, <code>14</code>, <code>8</code> e <code>21</code>.<br>\n",
    "Output desiderato:<br>\n",
    "<code><font color=green><b>40</b></font></code><br>\n",
    "<code><font color=green><b>2100</b></font></code><br>\n",
    "<code><font color=green><b>235200</b></font></code>"
   ]
  },
  {
   "cell_type": "code",
   "execution_count": null,
   "metadata": {},
   "outputs": [],
   "source": []
  },
  {
   "cell_type": "markdown",
   "metadata": {},
   "source": [
    "<b>Esercizio 2</b>"
   ]
  },
  {
   "cell_type": "markdown",
   "metadata": {},
   "source": [
    "Crea una funzione chiamata <code>fun1</code> con il parametro <code>**kwargs</code>che stampa l'output desiderato..<br>\n",
    "Richiama la funzione <code>fun1</code> con i valori <code>azione='mangiando'</code> e <code>ore=10</code>.<br>\n",
    "Richiama la funzione <code>fun1</code> con i valori <code>azione='giocando'</code> e <code>ore=16</code>.<br>\n",
    "Output desiderato:<br>\n",
    "<code><font color=green><b>Sto mangiando e sono le 10</b></font></code><br>\n",
    "<code><font color=green><b>Sto giocando e sono le 16</b></font></code>"
   ]
  },
  {
   "cell_type": "code",
   "execution_count": null,
   "metadata": {},
   "outputs": [],
   "source": []
  }
 ],
 "metadata": {
  "kernelspec": {
   "display_name": "Python 3",
   "language": "python",
   "name": "python3"
  },
  "language_info": {
   "codemirror_mode": {
    "name": "ipython",
    "version": 3
   },
   "file_extension": ".py",
   "mimetype": "text/x-python",
   "name": "python",
   "nbconvert_exporter": "python",
   "pygments_lexer": "ipython3",
   "version": "3.7.1"
  }
 },
 "nbformat": 4,
 "nbformat_minor": 2
}
