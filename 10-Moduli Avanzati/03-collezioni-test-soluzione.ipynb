{
 "cells": [
  {
   "cell_type": "markdown",
   "metadata": {},
   "source": [
    "## Esercizi - Collezioni"
   ]
  },
  {
   "cell_type": "markdown",
   "metadata": {},
   "source": [
    "<b>Esercizio 1</b>"
   ]
  },
  {
   "cell_type": "code",
   "execution_count": 3,
   "metadata": {},
   "outputs": [],
   "source": [
    "tup1 = ['a','a','b','a','d','e','b','b','d','a','e','f']"
   ]
  },
  {
   "cell_type": "markdown",
   "metadata": {},
   "source": [
    "Importa il modulo <code>Counter</code> e conta le occorrenze di ogni elemento in <code>tup1</code>.<br>\n",
    "Output desiderato:<br>\n",
    "<code><font color=green><b>Counter({'a': 4, 'b': 3, 'd': 2, 'e': 2, 'f': 1})</b></font></code><br>"
   ]
  },
  {
   "cell_type": "code",
   "execution_count": 4,
   "metadata": {},
   "outputs": [
    {
     "data": {
      "text/plain": [
       "Counter({'a': 4, 'b': 3, 'd': 2, 'e': 2, 'f': 1})"
      ]
     },
     "execution_count": 4,
     "metadata": {},
     "output_type": "execute_result"
    }
   ],
   "source": [
    "from collections import Counter\n",
    "Counter(tup1)"
   ]
  },
  {
   "cell_type": "markdown",
   "metadata": {},
   "source": [
    "<b>Esercizio 2</b>"
   ]
  },
  {
   "cell_type": "code",
   "execution_count": 5,
   "metadata": {},
   "outputs": [],
   "source": [
    "p = 'Andiamo al cinema'"
   ]
  },
  {
   "cell_type": "markdown",
   "metadata": {},
   "source": [
    "Stampa le occorrenze di ogni lettera in <code>p</code>.<br>\n",
    "Stampa le occorrenze di ogni lettera in <code>p</code> in ordine dalla più comune.<br>\n",
    "Stampa il numero di lettere in <code>p</code>.<br>\n",
    "Stampa il numero di lettere in <code>p</code> senza contare gli spazi bianchi.<br>\n",
    "Output desiderato:<br>\n",
    "<code><font color=green><b>Counter({'A': 1,'n': 2,'d': 1,'i': 2,'a': 3,'m': 2,'o': 1,' ': 2,'l': 1,'c': 1,'e': 1})</b></font></code><br>\n",
    "<code><font color=green><b>[('a', 3), ('n', 2), ('i', 2), ('m', 2), (' ', 2), ('A', 1), ('d', 1), ('o', 1), ('l', 1), ('c', 1), ('e', 1)]</b></font></code><br>\n",
    "<code><font color=green><b>17</b></font></code><br>\n",
    "<code><font color=green><b>15</b></font></code><br>"
   ]
  },
  {
   "cell_type": "code",
   "execution_count": 6,
   "metadata": {},
   "outputs": [
    {
     "name": "stdout",
     "output_type": "stream",
     "text": [
      "Counter({'a': 3, 'n': 2, 'i': 2, 'm': 2, ' ': 2, 'A': 1, 'd': 1, 'o': 1, 'l': 1, 'c': 1, 'e': 1})\n",
      "[('a', 3), ('n', 2), ('i', 2), ('m', 2), (' ', 2), ('A', 1), ('d', 1), ('o', 1), ('l', 1), ('c', 1), ('e', 1)]\n",
      "17\n",
      "15\n"
     ]
    }
   ],
   "source": [
    "conta = Counter(p)\n",
    "print(conta)\n",
    "print(conta.most_common())\n",
    "print(sum(conta.values()))\n",
    "conta.pop(' ')\n",
    "print(sum(conta.values()))"
   ]
  },
  {
   "cell_type": "markdown",
   "metadata": {},
   "source": [
    "<b>Esercizio 3</b>"
   ]
  },
  {
   "cell_type": "markdown",
   "metadata": {},
   "source": [
    "Importa il modulo <code>defaultdict</code> e crea un dizionario chiamato <code>diz1</code> impostando il valore <code>-1</code> come default.<br>\n",
    "Stampa il valore della chiave <code>'k1'</code>.<br>\n",
    "Assegna alla chiave <code>'k2'</code> il valore <code>1</code>.<br>\n",
    "Stampa il contenuto del dizionario <code>diz1</code>.<br>\n",
    "Output desiderato:<br>\n",
    "<code><font color=green><b>-1</b></font></code><br>\n",
    "<code><font color=green><b>defaultdict(<function <lambda> at 0x10f48e268>, {'k1': -1, 'k2': 1})</b></font></code><br>"
   ]
  },
  {
   "cell_type": "code",
   "execution_count": 7,
   "metadata": {},
   "outputs": [
    {
     "name": "stdout",
     "output_type": "stream",
     "text": [
      "-1\n",
      "defaultdict(<function <lambda> at 0x11143a1e0>, {'k1': -1, 'k2': 1})\n"
     ]
    }
   ],
   "source": [
    "from collections import defaultdict\n",
    "diz1 = defaultdict(lambda: - 1)\n",
    "print(diz1['k1'])\n",
    "diz1['k2'] = 1\n",
    "print(diz1)"
   ]
  },
  {
   "cell_type": "markdown",
   "metadata": {},
   "source": [
    "<b>Esercizio 4</b>"
   ]
  },
  {
   "cell_type": "markdown",
   "metadata": {},
   "source": [
    "Importa il modulo <code>namedtuple</code> e crea una <code>namedtuple</code> chiamata <code>Moto</code> con i parametri <code>anno</code>, <code>cilindrata</code>, e <code>tipo</code>.<br>\n",
    "Crea un'istanza di <code>Moto</code> chiamata <code>moto1</code> con i valori <code>2016</code>, <code>250</code> e <code>'enduro'</code>.<br>\n",
    "Stampa il valore del parametro <code>'anno'</code>.<br>\n",
    "Stampa il valore del parametro <code>'cilindrata'</code> utilizzando l'indice.<br>\n",
    "Stampa il valore del parametro <code>'tipo'</code> utilizzando l'indice negativo.<br>\n",
    "Output desiderato:<br>\n",
    "<code><font color=green><b>2016</b></font></code><br>\n",
    "<code><font color=green><b>250</b></font></code><br>\n",
    "<code><font color=green><b>enduro</b></font></code>"
   ]
  },
  {
   "cell_type": "code",
   "execution_count": 8,
   "metadata": {},
   "outputs": [
    {
     "name": "stdout",
     "output_type": "stream",
     "text": [
      "2016\n",
      "250\n",
      "enduro\n"
     ]
    }
   ],
   "source": [
    "from collections import namedtuple\n",
    "Moto = namedtuple('Moto','anno cilindrata tipo')\n",
    "moto1 = Moto(2016,250,'enduro')\n",
    "print(moto1.anno)\n",
    "print(moto1[1])\n",
    "print(moto1[-1])\n"
   ]
  },
  {
   "cell_type": "code",
   "execution_count": null,
   "metadata": {},
   "outputs": [],
   "source": []
  }
 ],
 "metadata": {
  "kernelspec": {
   "display_name": "Python 3",
   "language": "python",
   "name": "python3"
  },
  "language_info": {
   "codemirror_mode": {
    "name": "ipython",
    "version": 3
   },
   "file_extension": ".py",
   "mimetype": "text/x-python",
   "name": "python",
   "nbconvert_exporter": "python",
   "pygments_lexer": "ipython3",
   "version": "3.7.1"
  }
 },
 "nbformat": 4,
 "nbformat_minor": 2
}
