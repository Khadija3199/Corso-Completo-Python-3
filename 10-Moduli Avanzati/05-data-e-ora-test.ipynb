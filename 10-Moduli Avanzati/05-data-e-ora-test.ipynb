{
 "cells": [
  {
   "cell_type": "markdown",
   "metadata": {},
   "source": [
    "## Esercizi - DateTime"
   ]
  },
  {
   "cell_type": "markdown",
   "metadata": {},
   "source": [
    "<b>Esercizio 1</b>"
   ]
  },
  {
   "cell_type": "markdown",
   "metadata": {},
   "source": [
    "Importa il modulo <code>datetime</code>.<br>\n",
    "Crea la variabile <code>t1</code> con i valori <code>16</code>, <code>25</code> e <code>40</code> relativamente per indicare l'<code>ora</code>, i <code>minuti</code> e i <code>secondi</code>.<br>\n",
    "Stampa l'<code>ora</code> e i <code>minuti</code> come nell'ouput.<br>\n",
    "Output desiderato:<br>\n",
    "<code><font color=green><b>Sono le 16:25, mancano 20 secondi alle 16:26</b></font></code><br>"
   ]
  },
  {
   "cell_type": "code",
   "execution_count": null,
   "metadata": {},
   "outputs": [],
   "source": []
  },
  {
   "cell_type": "markdown",
   "metadata": {},
   "source": [
    "<b>Esercizio 2</b>"
   ]
  },
  {
   "cell_type": "markdown",
   "metadata": {},
   "source": [
    "Stampa la data odierna."
   ]
  },
  {
   "cell_type": "code",
   "execution_count": null,
   "metadata": {},
   "outputs": [],
   "source": []
  },
  {
   "cell_type": "markdown",
   "metadata": {},
   "source": [
    "<b>Esercizio 3</b>"
   ]
  },
  {
   "cell_type": "markdown",
   "metadata": {},
   "source": [
    "Crea la variabile <code>data1</code> con i valori <code>2050</code>, <code>12</code> e <code>25</code> relativamente per indicare l'<code>anno</code>, il <code>mese</code> e il <code>giorno</code>.<br>\n",
    "Stampa l'<code>anno</code>.<br>\n",
    "Stampa il <code>mese</code>.<br>\n",
    "Stampa il <code>giorno</code>.<br>\n",
    "Output desiderato:<br>\n",
    "<code><font color=green><b>2050</b></font></code><br>\n",
    "<code><font color=green><b>12</b></font></code><br>\n",
    "<code><font color=green><b>25</b></font></code>"
   ]
  },
  {
   "cell_type": "code",
   "execution_count": null,
   "metadata": {},
   "outputs": [],
   "source": []
  },
  {
   "cell_type": "markdown",
   "metadata": {},
   "source": [
    "<b>Esercizio 4</b>"
   ]
  },
  {
   "cell_type": "markdown",
   "metadata": {},
   "source": [
    "Modifica il <code>mese</code> e il <code>giorno</code> alla variabile <code>data1</code> con i valori <code>5</code> e <code>30</code>.<br>\n",
    "Stampa <code>data1</code>.<br>\n",
    "Output desiderato:<br>\n",
    "<code><font color=green><b>2050-05-30</b></font></code>"
   ]
  },
  {
   "cell_type": "code",
   "execution_count": null,
   "metadata": {},
   "outputs": [],
   "source": []
  },
  {
   "cell_type": "markdown",
   "metadata": {},
   "source": [
    "<b>Esercizio 5</b>"
   ]
  },
  {
   "cell_type": "markdown",
   "metadata": {},
   "source": [
    "Stampa la differenza tra <code>data1</code> e la data odierna."
   ]
  },
  {
   "cell_type": "code",
   "execution_count": null,
   "metadata": {},
   "outputs": [],
   "source": []
  }
 ],
 "metadata": {
  "kernelspec": {
   "display_name": "Python 3",
   "language": "python",
   "name": "python3"
  },
  "language_info": {
   "codemirror_mode": {
    "name": "ipython",
    "version": 3
   },
   "file_extension": ".py",
   "mimetype": "text/x-python",
   "name": "python",
   "nbconvert_exporter": "python",
   "pygments_lexer": "ipython3",
   "version": "3.7.1"
  }
 },
 "nbformat": 4,
 "nbformat_minor": 2
}
